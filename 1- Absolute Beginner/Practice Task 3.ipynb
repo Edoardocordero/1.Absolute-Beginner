{
  "cells": [
    {
      "metadata": {},
      "cell_type": "markdown",
      "source": "# Guessing a letter A-Z"
    },
    {
      "metadata": {
        "trusted": false
      },
      "cell_type": "code",
      "source": "def check_guess(letter, guess):\n    \n    if guess.isalpha():\n        if guess>letter:\n            return(\"False\")\n            print(\"Guess is too high\")\n        elif guess<letter:\n            return(\"False\")\n            print(\"Guess is too low\")\n        else: \n            return(\"True\")\n            print(\"Correct\")\n\n    else: \n        return (\"False\")\n        print(\"Invalid\")\n            ",
      "execution_count": 14,
      "outputs": []
    },
    {
      "metadata": {
        "trusted": false
      },
      "cell_type": "code",
      "source": "letter_entry=input(\"Enter the letter to guess: \")\nguess_entry=input(\"Enter your guess: \")\n\ncheck_guess(letter_entry, guess_entry)",
      "execution_count": 15,
      "outputs": [
        {
          "name": "stdout",
          "output_type": "stream",
          "text": "Enter the letter to guess: d\nEnter your guess: c\n"
        },
        {
          "data": {
            "text/plain": "'False'"
          },
          "execution_count": 15,
          "metadata": {},
          "output_type": "execute_result"
        }
      ]
    },
    {
      "metadata": {},
      "cell_type": "markdown",
      "source": "# Letter guess"
    },
    {
      "metadata": {
        "trusted": false
      },
      "cell_type": "code",
      "source": "letter_entry=input(\"Enter the letter to guess: \")",
      "execution_count": 18,
      "outputs": [
        {
          "name": "stdout",
          "output_type": "stream",
          "text": "Enter the letter to guess: s\n"
        }
      ]
    },
    {
      "metadata": {
        "trusted": false
      },
      "cell_type": "code",
      "source": "def letter_guess(guess1, guess2, guess3):\n    if check_guess(letter_entry,guess1)==\"True\":\n        print(\"Correct!!\")\n    elif check_guess(letter_entry, guess2)==\"True\":\n        print(\"Correct!!\")\n    elif check_guess(letter_entry, guess3)==\"True\":\n        print(\"Correct!!\")\n    else:\n        print(\"It was not correct\")",
      "execution_count": 19,
      "outputs": []
    },
    {
      "metadata": {
        "trusted": false
      },
      "cell_type": "code",
      "source": "guess1_en=input(\"Please enter your first guess: \")\nguess2_en=input(\"Please enter your second guess: \")\nguess3_en=input(\"Please enter your third guess: \")\n\nletter_guess(guess1_en, guess2_en, guess3_en)",
      "execution_count": 21,
      "outputs": [
        {
          "name": "stdout",
          "output_type": "stream",
          "text": "Please enter your first guess: b\nPlease enter your second guess: s\nPlease enter your third guess: f\nCorrect!!\n"
        }
      ]
    },
    {
      "metadata": {},
      "cell_type": "markdown",
      "source": "# Pet conversation"
    },
    {
      "metadata": {
        "trusted": true
      },
      "cell_type": "code",
      "source": "about_pet=input(\"Please enter your pets: \").lower()\nif \"cat\" in about_pet:\n    print(\"Cats are always so weird\")\nif \"dog\" in about_pet:\n    print(\"Dogs are so warming\")\nif \"bird\" in about_pet:\n    print(\"How can you live with a bird?\")",
      "execution_count": 2,
      "outputs": [
        {
          "output_type": "stream",
          "name": "stdout",
          "text": "Please enter your pets: CAT dog\nCats are always so weird\nDogs are so warming\n"
        }
      ]
    },
    {
      "metadata": {},
      "cell_type": "markdown",
      "source": "# Rainbow colors"
    },
    {
      "metadata": {
        "trusted": true
      },
      "cell_type": "code",
      "source": "def rainbow_color(color):\n    if color.upper()==\"R\":\n     return(\"Red\")\n    elif color.upper()==\"Y\":\n     return(\"Yellow\")\n    elif color.upper()==\"B\":\n     return(\"Blue\")\n    elif color.upper()==\"G\":\n     return(\"Green\")\n    else:\n        print(\"No match\")",
      "execution_count": 20,
      "outputs": []
    },
    {
      "metadata": {
        "trusted": true
      },
      "cell_type": "code",
      "source": "color_guess=input(\"What's the letter your favorite rainbow color starts with? \")\nprint(rainbow_color(color_guess), \" is your favorite rainbow color\")",
      "execution_count": 22,
      "outputs": [
        {
          "output_type": "stream",
          "name": "stdout",
          "text": "What's the letter your favorite rainbow color starts with? y\nYellow  is your favorite rainbow color\n"
        }
      ]
    },
    {
      "metadata": {},
      "cell_type": "markdown",
      "source": "# Age 20"
    },
    {
      "metadata": {
        "trusted": true
      },
      "cell_type": "code",
      "source": "def age_20(age):\n    if int(age)<20:\n        return(str(int(age)+20))\n    elif int(age)>20:\n        return(str(int(age)-20))\n    else:\n        return(str(0))",
      "execution_count": 3,
      "outputs": []
    },
    {
      "metadata": {
        "trusted": true
      },
      "cell_type": "code",
      "source": "your_age=input(\"What's your age? \")\nprint(age_20(your_age)+\" years ago, 20 years difference from now\")",
      "execution_count": 7,
      "outputs": [
        {
          "output_type": "stream",
          "name": "stdout",
          "text": "What's your age? 20\n0 years ago, 20 years difference from now\n"
        }
      ]
    },
    {
      "metadata": {
        "trusted": true
      },
      "cell_type": "code",
      "source": "answ=input(\"Please enter your answer: \")\nif answ.isdigit():\n    print(age_20(answ)+\" years ago, 20 years difference from now\")\nelif answ.isalpha():\n    if len(answ)==1:\n        print(rainbow_color(answ), \" is your favorite rainbow color\")\n    else: print(\"No match found\")\nelse: print(\"No match found\")",
      "execution_count": 23,
      "outputs": [
        {
          "output_type": "stream",
          "name": "stdout",
          "text": "Please enter your answer: y\nYellow  is your favorite rainbow color\n"
        }
      ]
    },
    {
      "metadata": {},
      "cell_type": "markdown",
      "source": "# Additional practice"
    },
    {
      "metadata": {
        "trusted": true
      },
      "cell_type": "code",
      "source": "def add_numb(num1, num2):\n    if str(num1).isdigit():\n        if str(num2).isdigit():\n         print(\"The addition is \"+str(int(num1)+int(num2)))\n        else: pass\n    else: pass\n        ",
      "execution_count": 25,
      "outputs": []
    },
    {
      "metadata": {
        "trusted": true
      },
      "cell_type": "code",
      "source": "def mult_numb(num1,num2):\n     if str(str(num1)+str(num2)).isdigit():\n         print(\"The multiplication is \"+str(int(num1)*int(num2)))\n     else: pass",
      "execution_count": 26,
      "outputs": []
    },
    {
      "metadata": {
        "trusted": true
      },
      "cell_type": "code",
      "source": "def aver_numb(num1,num2):\n    if str(str(num1)+str(num2)).isdigit():\n        print(\"The average number is \"+ str(int(num1)+int(num2)/2))\n    else: pass\n        ",
      "execution_count": 34,
      "outputs": []
    },
    {
      "metadata": {
        "trusted": true
      },
      "cell_type": "code",
      "source": "def pos_sub_numb(num1, num2):\n    if str(str(num1)+str(num2)).isdigit():\n        if int(num1)<int(num2):\n            print(\"The subtraction is\", int(num2)-int(num1))\n        else:\n            print(\"The subtraction is\", int(num1)-int(num2))\n    else: pass",
      "execution_count": 29,
      "outputs": []
    },
    {
      "metadata": {
        "trusted": true
      },
      "cell_type": "code",
      "source": "def div_numb(num1, div):\n    if str(str(num1)+str(div)).isdigit():\n        if int(div)!=0:\n             if int(div)<int(num1):\n                print(\"The division is \"+ str(int(int(num1)/int(div))))\n             else: print(\"div must be smaller\")\n        else: pass\n    else: pass",
      "execution_count": 37,
      "outputs": []
    },
    {
      "metadata": {
        "trusted": true
      },
      "cell_type": "code",
      "source": "my_num1=input(\"Please enter a number: \")\nmy_num2=input(\"Please enter the second number: \")\ndiv=input(\"Please enter a number smaller than the first number: \")\nadd_numb(my_num1, my_num2)\nmult_numb(my_num1, my_num2)\naver_numb(my_num1, my_num2)\npos_sub_numb(my_num1, my_num2)\ndiv_numb(my_num1, div)\n",
      "execution_count": 38,
      "outputs": [
        {
          "output_type": "stream",
          "name": "stdout",
          "text": "Please enter a number: 45\nPlease enter the second number: 38\nPlease enter a number smaller than the first number: 13\nThe addition is 83\nThe multiplication is 1710\nThe average number is 64.0\nThe subtraction is 7\nThe division is 3\n"
        }
      ]
    }
  ],
  "metadata": {
    "kernelspec": {
      "name": "python3",
      "display_name": "Python 3",
      "language": "python"
    },
    "language_info": {
      "mimetype": "text/x-python",
      "nbconvert_exporter": "python",
      "name": "python",
      "pygments_lexer": "ipython3",
      "version": "3.5.4",
      "file_extension": ".py",
      "codemirror_mode": {
        "version": 3,
        "name": "ipython"
      }
    }
  },
  "nbformat": 4,
  "nbformat_minor": 2
}