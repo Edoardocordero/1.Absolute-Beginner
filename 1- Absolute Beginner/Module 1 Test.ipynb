{
 "cells": [
  {
   "cell_type": "markdown",
   "metadata": {},
   "source": [
    "# Allergy check"
   ]
  },
  {
   "cell_type": "code",
   "execution_count": 2,
   "metadata": {},
   "outputs": [
    {
     "name": "stdout",
     "output_type": "stream",
     "text": [
      "Enter something eaten in the last 24h: seafood dairy cream pie\n",
      "True\n",
      "It is True that seafood dairy cream pie contains dairy\n",
      "It is False that seafood dairy cream pie contains chockolate\n"
     ]
    }
   ],
   "source": [
    "input_test=input(\"Enter something eaten in the last 24h: \")\n",
    "print(\"dairy\" in input_test.lower())\n",
    "print(\"It is\", \"dairy\" in input_test.lower(), \"that\", input_test, \"contains dairy\")\n",
    "print(\"It is\", \"chockolate\" in input_test.lower(), \"that\", input_test, \"contains chockolate\")"
   ]
  }
 ],
 "metadata": {
  "kernelspec": {
   "display_name": "Python 3",
   "language": "python",
   "name": "python3"
  },
  "language_info": {
   "codemirror_mode": {
    "name": "ipython",
    "version": 3
   },
   "file_extension": ".py",
   "mimetype": "text/x-python",
   "name": "python",
   "nbconvert_exporter": "python",
   "pygments_lexer": "ipython3",
   "version": "3.5.4"
  }
 },
 "nbformat": 4,
 "nbformat_minor": 2
}
