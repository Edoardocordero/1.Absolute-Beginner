{
  "cells": [
    {
      "metadata": {},
      "cell_type": "markdown",
      "source": "# Cheese order"
    },
    {
      "metadata": {
        "trusted": true
      },
      "cell_type": "code",
      "source": "max_weight=10\nmin_weight=1\nunitary_price=2.2\norder=input(\"Please enter cheese order weight: \")\nif float(order)>max_weight:\n    print(order, \"is more than currently avaible stock\")\nelif float(order)<min_weight:\n    print(order, \"is below minimum order amount\")\nelse:\n    print(order, \" costs \", unitary_price*float(order))\n",
      "execution_count": null,
      "outputs": []
    }
  ],
  "metadata": {
    "kernelspec": {
      "name": "python3",
      "display_name": "Python 3",
      "language": "python"
    },
    "language_info": {
      "mimetype": "text/x-python",
      "nbconvert_exporter": "python",
      "name": "python",
      "file_extension": ".py",
      "version": "3.5.4",
      "pygments_lexer": "ipython3",
      "codemirror_mode": {
        "version": 3,
        "name": "ipython"
      }
    }
  },
  "nbformat": 4,
  "nbformat_minor": 1
}