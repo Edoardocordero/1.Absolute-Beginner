{
  "cells": [
    {
      "metadata": {},
      "cell_type": "markdown",
      "source": "# Tasks"
    },
    {
      "metadata": {
        "trusted": true
      },
      "cell_type": "code",
      "source": "print(\"The new line character is \\\"\\\\n\\\"\")\nprint(\"That\\'s how we escaped!'\")\nprint(\"#1\\t1\\n#2\\t22\\n#3\\t333\")",
      "execution_count": 3,
      "outputs": [
        {
          "output_type": "stream",
          "text": "The new line character is \"\\n\"\nThat's how we escaped!'\n#1\t1\n#2\t22\n#3\t333\n",
          "name": "stdout"
        }
      ]
    },
    {
      "metadata": {},
      "cell_type": "markdown",
      "source": "# Quote me"
    },
    {
      "metadata": {
        "trusted": true
      },
      "cell_type": "code",
      "source": "def quote_me(string):\n    if string.startswith(\"\\'\"):\n        return string\n    else: return \"\\\"\"+string+\"\\\"\"",
      "execution_count": 15,
      "outputs": []
    },
    {
      "metadata": {
        "trusted": true
      },
      "cell_type": "code",
      "source": "print(\"I have said\", quote_me(\"'I love you'\"))",
      "execution_count": 19,
      "outputs": [
        {
          "output_type": "stream",
          "text": "I have said 'I love you'\n",
          "name": "stdout"
        }
      ]
    },
    {
      "metadata": {},
      "cell_type": "markdown",
      "source": "# Shirt order"
    },
    {
      "metadata": {
        "trusted": true
      },
      "cell_type": "code",
      "source": "w_avaible=\"L M\"\nb_avaible=\"M S\"\n\nwhile True:\n\n col=input(\"What color do you want (white, blue): \").lower()\n size=input(\"What size do you want (S,M,L)\").lower()\n if col==\"white\":\n    if size==\"s\":\n        print(\"Size S per white short is not avaible\") \n    elif size==\"m\":\n        print(\"You are buying a white shirt size M\")\n        break\n    elif size==\"l\":\n        print(\"You are buying a white shirt size L\")\n        break\n    else: print(\"Please enter a valid size\")\n elif col==\"blue\":\n    if size==\"s\":\n        print(\"You are buying a blue shirt size S\")\n        break\n    elif size==\"m\":\n        print(\"You are buying a blue shirt size M\")\n        break\n    elif size==\"l\":\n        print(\"Size L per blue shirt not avaible\")\n    else: print(\"Please enter a valid size\")\n else: print(\"Please enter a valid color\")\n",
      "execution_count": null,
      "outputs": [
        {
          "output_type": "stream",
          "name": "stdout",
          "text": "What color do you want (white, blue): blue\nWhat size do you want (S,M,L)l\nSize L per blue shirt not avaible\n"
        }
      ]
    },
    {
      "metadata": {
        "trusted": true
      },
      "cell_type": "markdown",
      "source": "# String analysis"
    },
    {
      "metadata": {
        "trusted": true
      },
      "cell_type": "code",
      "source": "def str_analysis(string):\n    if string.isdigit():\n        if int(string)>99:\n            print(\"That's a big number\")\n        else: \n            print(\"That's a small number\")\n    else:\n        if string.isalpha():\n            print(\"It's all alpha\")\n        else: print(\"That's not all alpha\")",
      "execution_count": 2,
      "outputs": []
    },
    {
      "metadata": {
        "trusted": true
      },
      "cell_type": "code",
      "source": "str=input(\"Please enter something: \")\nstr_analysis(str)",
      "execution_count": 7,
      "outputs": [
        {
          "output_type": "stream",
          "name": "stdout",
          "text": "Please enter something: sss2\nThat's not all alpha\n"
        }
      ]
    },
    {
      "metadata": {},
      "cell_type": "markdown",
      "source": "# Ticket check"
    },
    {
      "metadata": {
        "trusted": true
      },
      "cell_type": "code",
      "source": "def ticket_check(section, seat):\n    if section.startswith(\"g\"):\n        if 1<=int(seat)<=10:\n            return True\n        else: return False\n    elif section.startswith(\"f\"):\n        if 1<=int(seat)<=4:\n            return True\n        else: return False\n    else: return False",
      "execution_count": 1,
      "outputs": []
    },
    {
      "metadata": {
        "trusted": true
      },
      "cell_type": "code",
      "source": "user_sect=input(\"Please enter the section (General, Floor): \").lower()\nuser_seat=input(\"Please enter the seat: \")\nticket_check(user_sect, user_seat)",
      "execution_count": 2,
      "outputs": [
        {
          "output_type": "stream",
          "name": "stdout",
          "text": "Please enter the section (General, Floor): floor\nPlease enter the seat: 3\n"
        },
        {
          "output_type": "execute_result",
          "execution_count": 2,
          "data": {
            "text/plain": "True"
          },
          "metadata": {}
        }
      ]
    },
    {
      "metadata": {
        "trusted": true
      },
      "cell_type": "code",
      "source": "",
      "execution_count": null,
      "outputs": []
    }
  ],
  "metadata": {
    "kernelspec": {
      "name": "python3",
      "display_name": "Python 3",
      "language": "python"
    },
    "language_info": {
      "mimetype": "text/x-python",
      "nbconvert_exporter": "python",
      "name": "python",
      "file_extension": ".py",
      "version": "3.5.4",
      "pygments_lexer": "ipython3",
      "codemirror_mode": {
        "version": 3,
        "name": "ipython"
      }
    }
  },
  "nbformat": 4,
  "nbformat_minor": 1
}