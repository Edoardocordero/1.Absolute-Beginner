{
  "cells": [
    {
      "metadata": {
        "trusted": true
      },
      "cell_type": "code",
      "source": "def str_analysis(string):\n    if string.isdigit():\n        if int(string)>99:\n            print(\"Big number\")\n        else: print(\"Small number\")\n    else:\n        if string.isalpha():\n            print(\"All alphabetic\")\n        else: print(\"Multiple character types\")\n            \nuser_string=input(\"Enter something: \")\nwhile user_string==\"\":\n    user_string=input(\"Enter something: \")\nstr_analysis(user_string)\n        ",
      "execution_count": null,
      "outputs": []
    }
  ],
  "metadata": {
    "kernelspec": {
      "name": "python3",
      "display_name": "Python 3",
      "language": "python"
    },
    "language_info": {
      "mimetype": "text/x-python",
      "nbconvert_exporter": "python",
      "name": "python",
      "pygments_lexer": "ipython3",
      "version": "3.5.4",
      "file_extension": ".py",
      "codemirror_mode": {
        "version": 3,
        "name": "ipython"
      }
    }
  },
  "nbformat": 4,
  "nbformat_minor": 1
}