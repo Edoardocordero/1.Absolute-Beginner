{
 "cells": [
  {
   "cell_type": "markdown",
   "metadata": {},
   "source": [
    "# Fish store"
   ]
  },
  {
   "cell_type": "code",
   "execution_count": 4,
   "metadata": {},
   "outputs": [
    {
     "name": "stdout",
     "output_type": "stream",
     "text": [
      "Enter the type of fish:tuna\n",
      "Enter the price: 24\n",
      "Fish Type: Tuna costs 24$\n"
     ]
    }
   ],
   "source": [
    "def fishstore(fish,price):\n",
    "    return(\"Fish Type: \"+fish+\" costs \" + str(price)+\"$\")\n",
    "\n",
    "\n",
    "fish_entry=input(\"Enter the type of fish:\").title()\n",
    "price_entry=input(\"Enter the price: \")\n",
    "\n",
    "print(fishstore(fish_entry,price_entry))"
   ]
  }
 ],
 "metadata": {
  "kernelspec": {
   "display_name": "Python 3",
   "language": "python",
   "name": "python3"
  },
  "language_info": {
   "codemirror_mode": {
    "name": "ipython",
    "version": 3
   },
   "file_extension": ".py",
   "mimetype": "text/x-python",
   "name": "python",
   "nbconvert_exporter": "python",
   "pygments_lexer": "ipython3",
   "version": "3.5.4"
  }
 },
 "nbformat": 4,
 "nbformat_minor": 2
}
