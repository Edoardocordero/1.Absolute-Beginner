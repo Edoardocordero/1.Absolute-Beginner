{
  "cells": [
    {
      "metadata": {},
      "cell_type": "markdown",
      "source": "# Adding report"
    },
    {
      "metadata": {
        "trusted": true
      },
      "cell_type": "code",
      "source": "def adding_report(string):\n    total=0\n    items=\"\"\n    while True:\n        num=input(\"Please enter an integer: \").upper()\n        if string.upper()==\"A\":\n            if num==\"Q\":\n                print(\"Items\",items)\n                print(\"Total\\n\",total)\n                break\n            else:\n                  if num.isdigit():\n                    items=items+\"\\n\"+num\n                    total=total+int(num)\n                  else: print(\"Invalid input\")\n        elif string.upper()==\"T\":\n            if num==\"Q\":\n                print(\"Total\\n\"+str(total))\n                break\n            else:\n                if num.isdigit():\n                    total+=int(num)\n                else: print(\"invalid input\")\n        else: print(\"invalid input\")\n\n\n            ",
      "execution_count": 3,
      "outputs": []
    },
    {
      "metadata": {
        "trusted": true
      },
      "cell_type": "code",
      "source": " adding_report(\"T\")",
      "execution_count": 4,
      "outputs": [
        {
          "output_type": "stream",
          "name": "stdout",
          "text": "Please enter an integer: 4\nPlease enter an integer: 5\nPlease enter an integer: 6\nPlease enter an integer: q\nTotal\n15\n"
        }
      ]
    },
    {
      "metadata": {
        "trusted": true
      },
      "cell_type": "code",
      "source": "",
      "execution_count": null,
      "outputs": []
    }
  ],
  "metadata": {
    "kernelspec": {
      "name": "python3",
      "display_name": "Python 3",
      "language": "python"
    },
    "language_info": {
      "mimetype": "text/x-python",
      "nbconvert_exporter": "python",
      "name": "python",
      "file_extension": ".py",
      "version": "3.5.4",
      "pygments_lexer": "ipython3",
      "codemirror_mode": {
        "version": 3,
        "name": "ipython"
      }
    }
  },
  "nbformat": 4,
  "nbformat_minor": 1
}