{
  "cells": [
    {
      "metadata": {},
      "cell_type": "markdown",
      "source": "# ID"
    },
    {
      "metadata": {
        "trusted": true
      },
      "cell_type": "code",
      "source": "def codice_fiscale(surname, name, year, month, daygender,comune):\n    print(surname[0:3]+str(name[0:3])+str(year)+str(month)+str(daygender)+str(comune))",
      "execution_count": 2,
      "outputs": []
    },
    {
      "metadata": {
        "trusted": true
      },
      "cell_type": "code",
      "source": "surname_entry=input(\"Entry your surname: \").upper()\nname_entry=input(\"Entry your name: \").upper()\nyear_entry=input(\"Entry the year in which you were born: \").upper()\nmonth_entry=input(\"Entry the month in which you were born: \").upper()\nday_entry=input(\"Entry the day of birth: \").upper()\ncomune_entry=input(\"Entry the comune of birth: \").upper()\ngender_entry=input(\"Entry your gender: \").upper()",
      "execution_count": 3,
      "outputs": [
        {
          "output_type": "stream",
          "name": "stdout",
          "text": "Entry your surname: franzini\nEntry your name: ermes federico\nEntry the year in which you were born: 1997\nEntry the month in which you were born: 7\nEntry the day of birth: 10\nEntry the comune of birth: torino\nEntry your gender: m\n"
        }
      ]
    },
    {
      "metadata": {
        "trusted": true
      },
      "cell_type": "code",
      "source": "surnameid=\"\"\nnameid=\"\"\n\nfor letter in surname_entry:\n  if letter in 'bcdfghlmnpqrstvz'.upper():\n        surnameid=surnameid+letter\n    \nfor letter in name_entry:\n    if letter in 'bcdfghlmnpqrstvz'.upper():\n        nameid=nameid+letter\n        \nif len(nameid)>3:\n    nameid=nameid[0]+nameid[2]+nameid[3]\n\n    \n\n        \n        \nyearid=year_entry[2:4]\n\nif month_entry==\"1\":\n    monthid=\"A\"\n\nif month_entry== \"2\":\n    monthid=\"B\"\n\nif month_entry== \"3\":\n    monthid=\"C\"\n\nif month_entry==\"4\":\n    monthid=\"D\"\n    \nif month_entry=='5':\n    monthid=\"E\"\n\nif month_entry=='6':\n    monthid=\"H\"\n\nif month_entry=='7':\n    monthid=\"L\"\n    \nif month_entry=='8':\n    monthid=\"M\"\n    \nif month_entry=='9':\n    monthid=\"P\"\n    \nif month_entry=='10':\n    monthid=\"R\"\n    \nif month_entry=='11':\n    monthid=\"S\"\n    \nif month_entry=='12':\n    monthid=\"T\"\n    \n    \n    \nif gender_entry==\"F\":\n    if day_entry in \"1,2,3,4,5,6,7,8,9\":\n        daygenderid=\"0\"+str(int(day_entry)+40)\n    else:\n        daygenderid=int(day_entry)+40\nelse:\n    if day_entry in \"1,2,3,4,5,6,7,8,9\":\n        daygenderid=\"0\"+day_entry\n    else: \n        daygenderid=day_entry\n        \nif comune_entry==\"TORINO\":\n    comuneid=\"L219\"\n    \nif comune_entry==\"PECETTO\":\n    comuneid=\"G398\"\n\nif comune_entry==\"PINO TORINESE\":\n    comuneid=\"G678\"\n\nif comune_entry==\"MILANO\":\n    comuneid=\"F205\"\n    \nif comune_entry==\"MONCALIERI\":\n    comuneid=\"F335\"\n        \n ",
      "execution_count": 4,
      "outputs": []
    },
    {
      "metadata": {
        "trusted": true
      },
      "cell_type": "code",
      "source": "print(codice_fiscale(surnameid,nameid,yearid,monthid,daygenderid,comuneid))",
      "execution_count": 5,
      "outputs": [
        {
          "output_type": "stream",
          "text": "FRNRSF97L10L219\nNone\n",
          "name": "stdout"
        }
      ]
    }
  ],
  "metadata": {
    "kernelspec": {
      "name": "python3",
      "display_name": "Python 3",
      "language": "python"
    },
    "language_info": {
      "mimetype": "text/x-python",
      "nbconvert_exporter": "python",
      "name": "python",
      "pygments_lexer": "ipython3",
      "version": "3.5.4",
      "file_extension": ".py",
      "codemirror_mode": {
        "version": 3,
        "name": "ipython"
      }
    }
  },
  "nbformat": 4,
  "nbformat_minor": 2
}