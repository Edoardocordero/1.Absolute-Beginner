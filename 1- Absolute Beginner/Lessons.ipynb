{
  "cells": [
    {
      "metadata": {},
      "cell_type": "markdown",
      "source": "# Module 1 BASICS"
    },
    {
      "metadata": {
        "trusted": true
      },
      "cell_type": "code",
      "source": "# print function\nprint(\"Hello World!\")",
      "execution_count": 1,
      "outputs": [
        {
          "output_type": "stream",
          "text": "Hello World!\n",
          "name": "stdout"
        }
      ]
    },
    {
      "metadata": {
        "trusted": false
      },
      "cell_type": "code",
      "source": "# type() to return str(string), int(integer), float(decimal)\ntype(2.3)",
      "execution_count": 4,
      "outputs": [
        {
          "data": {
            "text/plain": "float"
          },
          "execution_count": 4,
          "metadata": {},
          "output_type": "execute_result"
        }
      ]
    },
    {
      "metadata": {
        "trusted": false
      },
      "cell_type": "code",
      "source": "# + string and number addition (you can't add both a string and a number)\nprint(\"Hello \"+\"World\" \"!\")\nprint(3+5)",
      "execution_count": 11,
      "outputs": [
        {
          "name": "stdout",
          "output_type": "stream",
          "text": "Hello World!\n8\n"
        }
      ]
    },
    {
      "metadata": {
        "trusted": true
      },
      "cell_type": "code",
      "source": "bird=\"eagle\"\nx=\"I love \", bird\ny=\"I like \"+ bird\nprint(x)\nprint(y)",
      "execution_count": 2,
      "outputs": [
        {
          "output_type": "stream",
          "text": "('I love ', 'eagle')\nI like eagle\n",
          "name": "stdout"
        }
      ]
    },
    {
      "metadata": {
        "trusted": false
      },
      "cell_type": "code",
      "source": "# SyntaxErrors breaks code rules formatting (pront())\n# NameErrors objects not found",
      "execution_count": 12,
      "outputs": []
    },
    {
      "metadata": {
        "trusted": false
      },
      "cell_type": "code",
      "source": "# input(\"messsage to be showed\") gathering users input\nfav_food=input(\"Enter your favorite food: \")",
      "execution_count": 2,
      "outputs": [
        {
          "name": "stdout",
          "output_type": "stream",
          "text": "Enter your favorite food: pizza\n"
        }
      ]
    },
    {
      "metadata": {
        "trusted": false
      },
      "cell_type": "code",
      "source": "# , comma separation formatting (no type errors!)\nprint(\"Hello\", \"Colette\", \"I'm\", 20)",
      "execution_count": 5,
      "outputs": [
        {
          "name": "stdout",
          "output_type": "stream",
          "text": "Hello Colette I'm 20\n"
        }
      ]
    },
    {
      "metadata": {
        "trusted": false
      },
      "cell_type": "code",
      "source": "# Boolean string test\nvrb=\"String\"\nvrb.isalpha()\nvrb.isalnum()\nvrb.istitle()\nvrb.islower()\nvrb.isupper()\nvrb.startswith(\"S\")",
      "execution_count": 15,
      "outputs": [
        {
          "data": {
            "text/plain": "True"
          },
          "execution_count": 15,
          "metadata": {},
          "output_type": "execute_result"
        }
      ]
    },
    {
      "metadata": {
        "trusted": false
      },
      "cell_type": "code",
      "source": "# String format method\nprint(\"Hello World!\".capitalize())\nprint(\"Hello World!\".lower())\nprint(\"Hello World!\".upper())\nprint(\"Hello World!\".swapcase())\nprint(\"Hello World!\".title())",
      "execution_count": 16,
      "outputs": [
        {
          "name": "stdout",
          "output_type": "stream",
          "text": "Hello world!\nhello world!\nHELLO WORLD!\nhELLO wORLD!\nHello World!\n"
        }
      ]
    },
    {
      "metadata": {
        "trusted": false
      },
      "cell_type": "code",
      "source": "# Boolean IN keyword\nmenu = \"salad, pasta, sandwich, pizza, drinks, dessert\"\nprint('pizza' in menu)",
      "execution_count": 2,
      "outputs": [
        {
          "name": "stdout",
          "output_type": "stream",
          "text": "True\n"
        }
      ]
    },
    {
      "metadata": {},
      "cell_type": "markdown",
      "source": "# Module 2 FUNCTIONS"
    },
    {
      "metadata": {
        "trusted": false
      },
      "cell_type": "code",
      "source": "# Simple function structure\ndef my_function():\n    print(\"Hello World!\")",
      "execution_count": 1,
      "outputs": []
    },
    {
      "metadata": {
        "trusted": false
      },
      "cell_type": "code",
      "source": "# Call simple function by name\nmy_function()",
      "execution_count": 2,
      "outputs": [
        {
          "name": "stdout",
          "output_type": "stream",
          "text": "Hello World!\n"
        }
      ]
    },
    {
      "metadata": {
        "trusted": false
      },
      "cell_type": "code",
      "source": "# Return function\ndef my_function2():\n    return(\"Hello World!\")",
      "execution_count": 3,
      "outputs": []
    },
    {
      "metadata": {
        "trusted": false
      },
      "cell_type": "code",
      "source": "# Call return function\nprint(my_function2())",
      "execution_count": 4,
      "outputs": [
        {
          "name": "stdout",
          "output_type": "stream",
          "text": "Hello World!\n"
        }
      ]
    },
    {
      "metadata": {
        "trusted": false
      },
      "cell_type": "code",
      "source": "# Parametres\ndef find_function(name, price=10):\n    print(str(name)+\" costs \"+str(price)+\"$\")\n    \n#Call with both parametres\nfind_function(\"table\",30)\n\n#Call with one parametr\nfind_function(\"table\")",
      "execution_count": 9,
      "outputs": [
        {
          "name": "stdout",
          "output_type": "stream",
          "text": "table costs 30$\ntable costs 10$\n"
        }
      ]
    },
    {
      "metadata": {},
      "cell_type": "markdown",
      "source": "# Module 3 CONDITIONALS"
    },
    {
      "metadata": {
        "trusted": true
      },
      "cell_type": "code",
      "source": "# conditional with Boolean\nif \"cars\" in \"cars, bikes, boats\":\n    print(\"I love cars\")\nelse: pass\n\nif \"love\".islower():\n    print(\"I love you\")\nelse: pass\n\nif True:\n    print(\"It is true\")\nelse: pass",
      "execution_count": 1,
      "outputs": [
        {
          "output_type": "stream",
          "text": "I love cars\nI love you\nIt is true\n",
          "name": "stdout"
        }
      ]
    },
    {
      "metadata": {
        "trusted": true
      },
      "cell_type": "code",
      "source": "# conditional with Comparison\nnumber=3\nif number>5:\n    print(\"It's too high\")\nelif number==5:\n    print(\"It's correct\")\nelse: print(\"It's too low\")\n    \nif number!=5:\n    print(\"Not correct\")",
      "execution_count": null,
      "outputs": []
    },
    {
      "metadata": {
        "trusted": true
      },
      "cell_type": "markdown",
      "source": "# Module 4 NEESTING AND LOOPS"
    },
    {
      "metadata": {
        "trusted": true
      },
      "cell_type": "code",
      "source": "# Nested conditionals\nans=input(\"Say hello (y or n)? \").title()\nif ans==\"N\":\n    print(\"*friendly not*\")\nelif ans==\"Y\":\n    ans2=input(\"Full \\\"Hello\\\"? \").title()\n    if ans2==\"Y\":\n        print(\"Hello\")\n    else: print(\"Hi\")\nelse: print(\"Invalid\")\n        ",
      "execution_count": 5,
      "outputs": [
        {
          "output_type": "stream",
          "name": "stdout",
          "text": "Say hello (y or n)? y\nFull \"Hello\"? n\nHi\n"
        }
      ]
    },
    {
      "metadata": {
        "trusted": true
      },
      "cell_type": "code",
      "source": "# Escape sequences\nprint(\"\\\\\")\nprint(\"\\\"\")\nprint(\"\\'\")\nprint(\"Edoardo\\nCordero\")\nprint(\"price:\\t30$\")",
      "execution_count": 4,
      "outputs": [
        {
          "output_type": "stream",
          "text": "\\\n\"\n'\nEdoardo\nCordero\nprice:\t30$\n",
          "name": "stdout"
        }
      ]
    },
    {
      "metadata": {
        "trusted": true
      },
      "cell_type": "code",
      "source": "# While True loop\nwhile True:\n    age=input(\"How old are you? \")\n    if age.isdigit()==False:\n        print(\"Not valid\")\n    else:\n        print(\"You are \"+age+\" years old\")\n        break",
      "execution_count": 9,
      "outputs": [
        {
          "output_type": "stream",
          "name": "stdout",
          "text": "How old are you? 21\nYou are 21 years old\n"
        }
      ]
    },
    {
      "metadata": {
        "trusted": true
      },
      "cell_type": "code",
      "source": "# Incrementing a variable\ncount=0\ntotal=0\nwhile True:\n    num=input(\"enter a number or exit: \").title()\n    if num.isdigit():\n        count+=1\n        total=total+int(num)\n    elif num==\"Exit\":\n        print(\"Inputs=\\t\\t\"+str(count))\n        print(\"Total=\\t\\t\"+str(total))\n        break\n    else: print(\"Not valid\")",
      "execution_count": 11,
      "outputs": [
        {
          "output_type": "stream",
          "name": "stdout",
          "text": "enter a number or exit: 3\nenter a number or exit: 4\nenter a number or exit: 5\nenter a number or exit: exit\nInputs=\t\t3\nTotal=\t\t12\n"
        }
      ]
    },
    {
      "metadata": {
        "trusted": true
      },
      "cell_type": "code",
      "source": "# While boolean\ngreet_count=5\nwhile greet_count>0:\n    print(greet_count)\n    greet_count-=1\nprint(\"\\nIgnition\")\n\nname=\"\"\nwhile name.isdigit()==False:\n    print(name)\n    name=input(\"Enter your siblings names: \")\n    ",
      "execution_count": 18,
      "outputs": [
        {
          "output_type": "stream",
          "text": "5\n4\n3\n2\n1\n\nIgnition\n\nEnter your siblings names: Riccardo\nRiccardo\nEnter your siblings names: Pietro\nPietro\nEnter your siblings names: 5\n",
          "name": "stdout"
        }
      ]
    }
  ],
  "metadata": {
    "kernelspec": {
      "name": "python3",
      "display_name": "Python 3",
      "language": "python"
    },
    "language_info": {
      "mimetype": "text/x-python",
      "nbconvert_exporter": "python",
      "name": "python",
      "file_extension": ".py",
      "version": "3.5.4",
      "pygments_lexer": "ipython3",
      "codemirror_mode": {
        "version": 3,
        "name": "ipython"
      }
    }
  },
  "nbformat": 4,
  "nbformat_minor": 2
}