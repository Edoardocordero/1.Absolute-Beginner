{
 "cells": [
  {
   "cell_type": "markdown",
   "metadata": {},
   "source": [
    "# Rhymes (long)"
   ]
  },
  {
   "cell_type": "code",
   "execution_count": 1,
   "metadata": {},
   "outputs": [
    {
     "name": "stdout",
     "output_type": "stream",
     "text": [
      "Roses are red, violets are blue, I love you.\n"
     ]
    }
   ],
   "source": [
    "def short_rhyme():\n",
    "    return(\"Roses are red, violets are blue, I love you.\")\n",
    "\n",
    "print(short_rhyme())"
   ]
  },
  {
   "cell_type": "code",
   "execution_count": 2,
   "metadata": {},
   "outputs": [],
   "source": [
    "def title_it(msg):\n",
    "    return msg.title()"
   ]
  },
  {
   "cell_type": "code",
   "execution_count": 3,
   "metadata": {},
   "outputs": [
    {
     "name": "stdout",
     "output_type": "stream",
     "text": [
      "What is the title? short poem\n"
     ]
    }
   ],
   "source": [
    "title=input(\"What is the title? \")\n",
    "final_title=title_it(title)"
   ]
  },
  {
   "cell_type": "code",
   "execution_count": 20,
   "metadata": {},
   "outputs": [
    {
     "name": "stdout",
     "output_type": "stream",
     "text": [
      "Short Poem\n",
      "Roses are red, violets are blue, I love you\n"
     ]
    }
   ],
   "source": [
    "def title_it_rtn():\n",
    "    print(final_title+\"\\n\"+short_rhyme())\n",
    "    \n",
    "    \n",
    "title_it_rtn()\n",
    "    \n"
   ]
  },
  {
   "cell_type": "markdown",
   "metadata": {},
   "source": [
    "# Rhymes (short)"
   ]
  },
  {
   "cell_type": "code",
   "execution_count": 17,
   "metadata": {},
   "outputs": [],
   "source": [
    "def short_rhyme():\n",
    "    return(\"Roses are red, violets are blue, I love you\")"
   ]
  },
  {
   "cell_type": "code",
   "execution_count": 18,
   "metadata": {},
   "outputs": [],
   "source": [
    "def title_it(msg):\n",
    "    return (msg.title()+\"\\n\"+short_rhyme())"
   ]
  },
  {
   "cell_type": "code",
   "execution_count": 7,
   "metadata": {},
   "outputs": [
    {
     "name": "stdout",
     "output_type": "stream",
     "text": [
      "What is the title? short poem\n"
     ]
    }
   ],
   "source": [
    "title=input(\"What is the title? \")"
   ]
  },
  {
   "cell_type": "code",
   "execution_count": 19,
   "metadata": {},
   "outputs": [
    {
     "name": "stdout",
     "output_type": "stream",
     "text": [
      "Short Poem\n",
      "Roses are red, violets are blue, I love you\n"
     ]
    }
   ],
   "source": [
    "final_poem=title_it(title)\n",
    "print(final_poem)"
   ]
  },
  {
   "cell_type": "markdown",
   "metadata": {},
   "source": [
    "# Bookstore"
   ]
  },
  {
   "cell_type": "code",
   "execution_count": 21,
   "metadata": {},
   "outputs": [],
   "source": [
    "def bookstore(book,price):\n",
    "    return(\"Title: \"+ book.title()+\", costs \"+str(price))"
   ]
  },
  {
   "cell_type": "code",
   "execution_count": 22,
   "metadata": {},
   "outputs": [
    {
     "name": "stdout",
     "output_type": "stream",
     "text": [
      "What is the book title? Sherlock holmes\n",
      "How much does it cost? 25\n"
     ]
    }
   ],
   "source": [
    "book_entry=input(\"What is the book title? \")\n",
    "price_entry=input(\"How much does it cost? \")"
   ]
  },
  {
   "cell_type": "code",
   "execution_count": 23,
   "metadata": {},
   "outputs": [
    {
     "name": "stdout",
     "output_type": "stream",
     "text": [
      "Title: Sherlock Holmes, costs 25\n"
     ]
    }
   ],
   "source": [
    "final_book=bookstore(book_entry, price_entry)\n",
    "print(final_book)"
   ]
  },
  {
   "cell_type": "markdown",
   "metadata": {},
   "source": [
    "# Fix the error"
   ]
  },
  {
   "cell_type": "code",
   "execution_count": 28,
   "metadata": {},
   "outputs": [],
   "source": [
    "def make_greeting(name, greeting=\"Hello\"):\n",
    "    return(greeting+\" \"+name+\"!\")"
   ]
  },
  {
   "cell_type": "code",
   "execution_count": 29,
   "metadata": {},
   "outputs": [],
   "source": [
    "def get_name():\n",
    "    name_entry=input(\"Enter a name: \").title()\n",
    "    return name_entry"
   ]
  },
  {
   "cell_type": "code",
   "execution_count": 30,
   "metadata": {},
   "outputs": [],
   "source": [
    "def get_greeting():\n",
    "    greeting_entry=input(\"Enter a greeting: \").title()\n",
    "    return greeting_entry"
   ]
  },
  {
   "cell_type": "code",
   "execution_count": 37,
   "metadata": {},
   "outputs": [
    {
     "name": "stdout",
     "output_type": "stream",
     "text": [
      "Enter a name: antonio\n",
      "Enter a greeting: good luck\n",
      "Good Luck Antonio!\n"
     ]
    }
   ],
   "source": [
    "print(make_greeting(get_name(), get_greeting()))"
   ]
  }
 ],
 "metadata": {
  "kernelspec": {
   "display_name": "Python 3",
   "language": "python",
   "name": "python3"
  },
  "language_info": {
   "codemirror_mode": {
    "name": "ipython",
    "version": 3
   },
   "file_extension": ".py",
   "mimetype": "text/x-python",
   "name": "python",
   "nbconvert_exporter": "python",
   "pygments_lexer": "ipython3",
   "version": "3.5.4"
  }
 },
 "nbformat": 4,
 "nbformat_minor": 2
}
