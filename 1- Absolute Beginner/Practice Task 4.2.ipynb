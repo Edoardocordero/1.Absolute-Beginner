{
  "cells": [
    {
      "metadata": {},
      "cell_type": "markdown",
      "source": "# Practice"
    },
    {
      "metadata": {
        "trusted": true
      },
      "cell_type": "code",
      "source": "sum=0\nwhile True:\n    num=input(\"Please enter a number: \")\n    if num.isdigit():\n       sum=sum+int(num)\n       print(\"The sum is:   \\t\", sum)\n    else:\n        print(\"sum is: \\t0\")\n        break",
      "execution_count": null,
      "outputs": []
    },
    {
      "metadata": {},
      "cell_type": "markdown",
      "source": "# Rainbow"
    },
    {
      "metadata": {
        "trusted": true
      },
      "cell_type": "code",
      "source": "rainbow=\"blue, green, red, violet, yellow\"\ncount=1\nwhile True:\n    us_col=input(\"Please enter a color: \")\n    if us_col in rainbow:\n        print(\"This is a rainbow color\")\n        break\n    else: \n         if count>3:\n            print(\"You have run out chance\")\n            break\n         else: \n            print(\"NOT a rainbow color\")\n            count=count+1\n   ",
      "execution_count": 15,
      "outputs": [
        {
          "output_type": "stream",
          "name": "stdout",
          "text": "Please enter a color: z\nNOT a rainbow color\nPlease enter a color: z\nNOT a rainbow color\nPlease enter a color: z\nNOT a rainbow color\nPlease enter a color: z\nYou have run out chance\n"
        }
      ]
    },
    {
      "metadata": {},
      "cell_type": "markdown",
      "source": "# Book title"
    },
    {
      "metadata": {
        "trusted": true
      },
      "cell_type": "code",
      "source": "while True:\n    book=input(\"Please enter a book title: \")\n    if book.istitle():\n        print(\"Nice Book!!\")\n        break\n    else: print(\"Not a book\")\n",
      "execution_count": 16,
      "outputs": [
        {
          "output_type": "stream",
          "name": "stdout",
          "text": "Please enter a book title: ffff\nNot a book\nPlease enter a book title: Beauty and the Beast\nNot a book\nPlease enter a book title: Beauty And The Beast\nNice Book!!\n"
        }
      ]
    },
    {
      "metadata": {},
      "cell_type": "markdown",
      "source": "# Math Quiz"
    },
    {
      "metadata": {
        "trusted": true
      },
      "cell_type": "code",
      "source": "answ=\"160\"\nwhile True:\n    guess=input(\"How much is 40*4?: \")\n    if guess==answ:\n        print(\"Correct!!\")\n        break\n    else: print(\"NOT correct\")\n    ",
      "execution_count": 1,
      "outputs": [
        {
          "output_type": "stream",
          "name": "stdout",
          "text": "How much is 40*4?: 135\nNOT correct\nHow much is 40*4?: 160\nCorrect!!\n"
        }
      ]
    },
    {
      "metadata": {},
      "cell_type": "markdown",
      "source": "# Fix the error and how to recognise a multiple"
    },
    {
      "metadata": {
        "trusted": true
      },
      "cell_type": "code",
      "source": "tickets = int(input(\"enter tickets remaining (0 to quit): \"))\n\nwhile tickets > 0:\n        # if tickets are multiple of 3 then \"winner\"\n    if int(tickets/3) == tickets/3:\n        print(\"you win!\")\n    else:\n        print(\"sorry, not a winner.\")\n    tickets = int(input(\"enter tickets remaining (0 to quit): \"))\n\nprint(\"Game ended\")",
      "execution_count": null,
      "outputs": [
        {
          "output_type": "stream",
          "name": "stdout",
          "text": "enter tickets remaining (0 to quit): 1\nsorry, not a winner.\nenter tickets remaining (0 to quit): 3\nyou win!\nenter tickets remaining (0 to quit): 6\nyou win!\nenter tickets remaining (0 to quit): 5\nsorry, not a winner.\nenter tickets remaining (0 to quit): 0\n"
        }
      ]
    },
    {
      "metadata": {},
      "cell_type": "markdown",
      "source": "# Quiz item"
    },
    {
      "metadata": {
        "trusted": true
      },
      "cell_type": "code",
      "source": "def quiz_item(question, solution):\n   answer=input(question+\" \" ).lower()\n   while answer!=solution.lower():\n         print(\"Not correct\")\n         answer=input(question).lower()\n   print(\"CORRECT!!!\")\n         ",
      "execution_count": 9,
      "outputs": []
    },
    {
      "metadata": {
        "trusted": true
      },
      "cell_type": "code",
      "source": "quiz_item(\"What's my name?\", \"Edoardo\")",
      "execution_count": 10,
      "outputs": [
        {
          "output_type": "stream",
          "name": "stdout",
          "text": "What's my name? edoardo\nCORRECT!!!\n"
        }
      ]
    },
    {
      "metadata": {
        "trusted": true
      },
      "cell_type": "code",
      "source": "quiz_item(\"3.0 is an integer\",\"False\")",
      "execution_count": 11,
      "outputs": [
        {
          "output_type": "stream",
          "name": "stdout",
          "text": "3.0 is an integer false\nCORRECT!!!\n"
        }
      ]
    }
  ],
  "metadata": {
    "kernelspec": {
      "name": "python3",
      "display_name": "Python 3",
      "language": "python"
    },
    "language_info": {
      "mimetype": "text/x-python",
      "nbconvert_exporter": "python",
      "name": "python",
      "file_extension": ".py",
      "version": "3.5.4",
      "pygments_lexer": "ipython3",
      "codemirror_mode": {
        "version": 3,
        "name": "ipython"
      }
    }
  },
  "nbformat": 4,
  "nbformat_minor": 1
}