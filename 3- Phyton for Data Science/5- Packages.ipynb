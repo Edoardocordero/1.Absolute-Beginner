{
  "cells": [
    {
      "metadata": {},
      "cell_type": "markdown",
      "source": "- **import**"
    },
    {
      "metadata": {
        "trusted": true
      },
      "cell_type": "code",
      "source": "import math",
      "execution_count": 5,
      "outputs": []
    },
    {
      "metadata": {},
      "cell_type": "markdown",
      "source": "- **use package**"
    },
    {
      "metadata": {
        "trusted": true
      },
      "cell_type": "code",
      "source": "r=3\nC=2*r*math.pi**2\nprint(\"Circumference: \", C)",
      "execution_count": 6,
      "outputs": [
        {
          "output_type": "stream",
          "text": "Circumference:  59.21762640653615\n",
          "name": "stdout"
        }
      ]
    },
    {
      "metadata": {},
      "cell_type": "markdown",
      "source": "- **to use just one single part**"
    },
    {
      "metadata": {
        "trusted": true
      },
      "cell_type": "code",
      "source": "from math import pi\n\nr=3\nC=2*r*pi**2\nprint(\"Circumference: \", C)",
      "execution_count": 8,
      "outputs": [
        {
          "output_type": "stream",
          "text": "Circumference:  59.21762640653615\n",
          "name": "stdout"
        }
      ]
    },
    {
      "metadata": {},
      "cell_type": "markdown",
      "source": "- **to call how i want**"
    },
    {
      "metadata": {
        "trusted": true
      },
      "cell_type": "code",
      "source": "from math import pi as pigreco\nr=3\nC=2*r*pigreco**2\nprint(\"Circumference: \", C)",
      "execution_count": 9,
      "outputs": [
        {
          "output_type": "stream",
          "text": "Circumference:  59.21762640653615\n",
          "name": "stdout"
        }
      ]
    }
  ],
  "metadata": {
    "kernelspec": {
      "name": "python3",
      "display_name": "Python 3",
      "language": "python"
    },
    "language_info": {
      "mimetype": "text/x-python",
      "nbconvert_exporter": "python",
      "name": "python",
      "file_extension": ".py",
      "version": "3.5.4",
      "pygments_lexer": "ipython3",
      "codemirror_mode": {
        "version": 3,
        "name": "ipython"
      }
    }
  },
  "nbformat": 4,
  "nbformat_minor": 1
}