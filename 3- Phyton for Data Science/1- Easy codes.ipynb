{
  "cells": [
    {
      "metadata": {},
      "cell_type": "markdown",
      "source": "# Easy codes"
    },
    {
      "metadata": {
        "trusted": true
      },
      "cell_type": "code",
      "source": "#Exponentiation(**)\nprint(2 ** 4)\n\n#Modulo(%)\nprint(40 % 6)\n\n#Code in same line\nprint(\"Hello\"); print(\"World!\")",
      "execution_count": 17,
      "outputs": [
        {
          "output_type": "stream",
          "text": "16\n4\nHello\nWorld!\n",
          "name": "stdout"
        }
      ]
    }
  ],
  "metadata": {
    "kernelspec": {
      "name": "python36",
      "display_name": "Python 3.6",
      "language": "python"
    },
    "language_info": {
      "mimetype": "text/x-python",
      "nbconvert_exporter": "python",
      "name": "python",
      "pygments_lexer": "ipython3",
      "version": "3.6.6",
      "file_extension": ".py",
      "codemirror_mode": {
        "version": 3,
        "name": "ipython"
      }
    }
  },
  "nbformat": 4,
  "nbformat_minor": 2
}