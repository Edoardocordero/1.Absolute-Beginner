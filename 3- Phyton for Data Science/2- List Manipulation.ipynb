{
  "cells": [
    {
      "metadata": {},
      "cell_type": "markdown",
      "source": "# List Manipulation"
    },
    {
      "metadata": {
        "trusted": true
      },
      "cell_type": "code",
      "source": "fam=['Liz', 1.71, 'Jen', 1.63, 'Mom', 1.60, 'Dad', 1.89]\n\n#Changing list element\nfam[:2]=['Elizabeth', 1.73]\nprint(fam)\n\n#Adding elements\nfam=fam+['Me', 1.80]\nprint(fam)\n\n#Removing elements\ndel(fam[2])\nprint(fam)\ndel(fam[2])\nprint(fam)",
      "execution_count": 1,
      "outputs": [
        {
          "output_type": "stream",
          "text": "['Elizabeth', 1.73, 'Jen', 1.63, 'Mom', 1.6, 'Dad', 1.89]\n['Elizabeth', 1.73, 'Jen', 1.63, 'Mom', 1.6, 'Dad', 1.89, 'Me', 1.8]\n['Elizabeth', 1.73, 1.63, 'Mom', 1.6, 'Dad', 1.89, 'Me', 1.8]\n['Elizabeth', 1.73, 'Mom', 1.6, 'Dad', 1.89, 'Me', 1.8]\n",
          "name": "stdout"
        }
      ]
    },
    {
      "metadata": {
        "trusted": true
      },
      "cell_type": "code",
      "source": "#Behind the scenes\nx=[\"a\", \"b\", \"c\"]\ny=x\ny[1]=\"z\"\nprint(\"y: \", y)\nprint(\"x: \", x, \"\\n\")\n\ny=list(x)\ny[1]=\"b\"\nprint(\"y: \", y)\nprint(\"x: \", x)",
      "execution_count": 2,
      "outputs": [
        {
          "output_type": "stream",
          "text": "y:  ['a', 'z', 'c']\nx:  ['a', 'z', 'c'] \n\ny:  ['a', 'b', 'c']\nx:  ['a', 'z', 'c']\n",
          "name": "stdout"
        }
      ]
    }
  ],
  "metadata": {
    "kernelspec": {
      "name": "python3",
      "display_name": "Python 3",
      "language": "python"
    },
    "language_info": {
      "mimetype": "text/x-python",
      "nbconvert_exporter": "python",
      "name": "python",
      "pygments_lexer": "ipython3",
      "version": "3.5.4",
      "file_extension": ".py",
      "codemirror_mode": {
        "version": 3,
        "name": "ipython"
      }
    }
  },
  "nbformat": 4,
  "nbformat_minor": 1
}