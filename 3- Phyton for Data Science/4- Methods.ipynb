{
  "cells": [
    {
      "metadata": {},
      "cell_type": "markdown",
      "source": "# Methods\nOr functions that below to objects"
    },
    {
      "metadata": {},
      "cell_type": "markdown",
      "source": "- **List methods**"
    },
    {
      "metadata": {
        "trusted": true
      },
      "cell_type": "code",
      "source": "fam=['Liz', 1.71, 'Jen', 1.63, 'Mom', 1.60, 'Dad', 1.89]\n\n# .index()\nprint(fam.index('Mom'))\n\n#.count()\nprint(fam.count(1.63))",
      "execution_count": 3,
      "outputs": [
        {
          "output_type": "stream",
          "text": "4\n1\n",
          "name": "stdout"
        }
      ]
    },
    {
      "metadata": {},
      "cell_type": "markdown",
      "source": "- **String methods**"
    },
    {
      "metadata": {
        "trusted": true
      },
      "cell_type": "code",
      "source": "sister=\"elizabeth\"\n\n# .capitalise()\nprint(\"Printing the method: \", sister.capitalize())\nprint(\"Printing the variable after using the method: \", sister, \"\\n\")\n\n# .replace()\nprint(sister.replace(\"z\", \"s\").capitalize())\n\n# .index()\nprint(sister.index(\"t\"))\n\n# .upper()\nprint(sister.upper())\n",
      "execution_count": 22,
      "outputs": [
        {
          "output_type": "stream",
          "text": "Printing the method:  Elizabeth\nPrinting the variable after using the method:  elizabeth \n\nElisabeth\n7\nELIZABETH\n",
          "name": "stdout"
        }
      ]
    },
    {
      "metadata": {},
      "cell_type": "markdown",
      "source": "- **some methods can change the object they are related to**"
    },
    {
      "metadata": {
        "trusted": true
      },
      "cell_type": "code",
      "source": "fam=['Liz', 1.71, 'Jen', 1.63, 'Mom', 1.60, 'Dad', 1.89]\n\n# .append()\nfam.append(\"Me\")\nprint(fam)\n\n# .remove()\nfam.remove(\"Me\")\nprint(fam)\n\n# .reverse()\nfam.reverse()\nprint(fam)",
      "execution_count": 28,
      "outputs": [
        {
          "output_type": "stream",
          "text": "['Liz', 1.71, 'Jen', 1.63, 'Mom', 1.6, 'Dad', 1.89, 'Me']\n['Liz', 1.71, 'Jen', 1.63, 'Mom', 1.6, 'Dad', 1.89]\n[1.89, 'Dad', 1.6, 'Mom', 1.63, 'Jen', 1.71, 'Liz']\n",
          "name": "stdout"
        }
      ]
    },
    {
      "metadata": {
        "trusted": true
      },
      "cell_type": "code",
      "source": "numb=[2, 1, 5, 7]\n\n# .sort()\nnumb.sort()\nprint(numb)",
      "execution_count": 20,
      "outputs": [
        {
          "output_type": "stream",
          "text": "[1, 2, 5, 7]\n",
          "name": "stdout"
        }
      ]
    }
  ],
  "metadata": {
    "kernelspec": {
      "name": "python3",
      "display_name": "Python 3",
      "language": "python"
    },
    "language_info": {
      "mimetype": "text/x-python",
      "nbconvert_exporter": "python",
      "name": "python",
      "pygments_lexer": "ipython3",
      "version": "3.5.4",
      "file_extension": ".py",
      "codemirror_mode": {
        "version": 3,
        "name": "ipython"
      }
    }
  },
  "nbformat": 4,
  "nbformat_minor": 1
}