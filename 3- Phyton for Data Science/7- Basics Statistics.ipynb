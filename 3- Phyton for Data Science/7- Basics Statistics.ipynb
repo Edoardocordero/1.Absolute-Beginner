{
  "cells": [
    {
      "metadata": {},
      "cell_type": "markdown",
      "source": "# Generate Data"
    },
    {
      "metadata": {},
      "cell_type": "markdown",
      "source": "- np.round (***number to round***, ***decimal***)\n- np.random.normal (***distribution mean***, ***distribution standard deviation***, ***number of samples***)"
    },
    {
      "metadata": {
        "trusted": true
      },
      "cell_type": "code",
      "source": "import numpy as np",
      "execution_count": 8,
      "outputs": []
    },
    {
      "metadata": {
        "trusted": true
      },
      "cell_type": "code",
      "source": "height=np.round(np.random.normal(1.75, 0.2, 5000), 2)\nweight=np.round(np.random.normal(70, 15, 5000), 2)",
      "execution_count": 9,
      "outputs": []
    },
    {
      "metadata": {},
      "cell_type": "markdown",
      "source": "- np.column_stack ***(*** (***column1***, ***column2***) ***)***"
    },
    {
      "metadata": {
        "trusted": true
      },
      "cell_type": "code",
      "source": "np_city=np.column_stack ( (height, weight) )\nprint(np_city.shape)",
      "execution_count": 10,
      "outputs": [
        {
          "output_type": "stream",
          "text": "(5000, 2)\n",
          "name": "stdout"
        }
      ]
    },
    {
      "metadata": {},
      "cell_type": "markdown",
      "source": "# Statistics"
    },
    {
      "metadata": {},
      "cell_type": "markdown",
      "source": "- **np.mean ()**"
    },
    {
      "metadata": {
        "trusted": true
      },
      "cell_type": "code",
      "source": "average_height=np.mean(np_city[:,0])\nprint(\"Average height is:\\t\", average_height, \"\\n\")\n\naverage_weight=np.mean(np_city[:,1])\nprint(\"Average weight is:\\t\", average_weight)",
      "execution_count": 12,
      "outputs": [
        {
          "output_type": "stream",
          "text": "Average height is:\t 1.750418 \n\nAverage weight is:\t 70.171588\n",
          "name": "stdout"
        }
      ]
    },
    {
      "metadata": {},
      "cell_type": "markdown",
      "source": "- **np.median ()**"
    },
    {
      "metadata": {
        "trusted": true
      },
      "cell_type": "code",
      "source": "median_height=np.median(np_city[:,0])\nprint(\"Median height is:\\t\", median_height, \"\\n\")\n\nmedian_weight=np.median(np_city[:,1])\nprint(\"Median weight is:\\t\", median_weight)",
      "execution_count": 13,
      "outputs": [
        {
          "output_type": "stream",
          "text": "Median height is:\t 1.75 \n\nMedian weight is:\t 70.19\n",
          "name": "stdout"
        }
      ]
    },
    {
      "metadata": {},
      "cell_type": "markdown",
      "source": "- **np.corrcoef** **(** *variable 1*, *variable 2* **)**"
    },
    {
      "metadata": {
        "trusted": true
      },
      "cell_type": "code",
      "source": "correlation=np.corrcoef(np_city[:,0] , np_city[:,1])\nprint(correlation, \"\\t: Correlations\")",
      "execution_count": 15,
      "outputs": [
        {
          "output_type": "stream",
          "text": "[[ 1.         -0.01127018]\n [-0.01127018  1.        ]] \t: Correlations\n",
          "name": "stdout"
        }
      ]
    },
    {
      "metadata": {},
      "cell_type": "markdown",
      "source": "- **np.std** **(** *variable* **)**"
    },
    {
      "metadata": {
        "trusted": true
      },
      "cell_type": "code",
      "source": "height_std=np.std(np_city[:, 0])\nprint(\"Height standard deviation:\\t\", np.round(height_std, 5))\n\nweight_std=np.std(np_city[:,1])\nprint(\"Weight standard deviation:\\t\", np.round(weight_std, 5))",
      "execution_count": 21,
      "outputs": [
        {
          "output_type": "stream",
          "text": "Height standard deviation:\t 0.20047\nWeight standard deviation:\t 15.15154\n",
          "name": "stdout"
        }
      ]
    },
    {
      "metadata": {
        "trusted": true
      },
      "cell_type": "code",
      "source": "# Now we want the median of the weights just for the tall people(height>1.8)\n\ntall_weight=weight[height>1.80]\nprint(\"Average tall people weight:\\t\", np.round(np.mean(tall_weight), 5))",
      "execution_count": 27,
      "outputs": [
        {
          "output_type": "stream",
          "text": "Average tall people weight:\t 69.93632\n",
          "name": "stdout"
        }
      ]
    },
    {
      "metadata": {
        "trusted": true
      },
      "cell_type": "code",
      "source": "",
      "execution_count": null,
      "outputs": []
    },
    {
      "metadata": {
        "trusted": true
      },
      "cell_type": "code",
      "source": "",
      "execution_count": null,
      "outputs": []
    }
  ],
  "metadata": {
    "kernelspec": {
      "name": "python3",
      "display_name": "Python 3",
      "language": "python"
    },
    "language_info": {
      "mimetype": "text/x-python",
      "nbconvert_exporter": "python",
      "name": "python",
      "pygments_lexer": "ipython3",
      "version": "3.5.4",
      "file_extension": ".py",
      "codemirror_mode": {
        "version": 3,
        "name": "ipython"
      }
    }
  },
  "nbformat": 4,
  "nbformat_minor": 1
}