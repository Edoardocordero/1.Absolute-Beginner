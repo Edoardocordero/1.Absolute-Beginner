{
  "cells": [
    {
      "metadata": {},
      "cell_type": "markdown",
      "source": "# Functions"
    },
    {
      "metadata": {
        "trusted": true
      },
      "cell_type": "code",
      "source": "# max() \nprint(max([1, 2, 3]))\n\n# round()\nprint(round(1.678))\nprint(round(1.678, 1))\nprint(round(1.678, 2))\n\n# help()\nhelp(round)\n\n# len()\nprint(len(\"Edo\"))\n\n# sorted(iterable, key=None, reverse=False)\nprint(sorted([2, 1, 3], reverse=True))",
      "execution_count": 1,
      "outputs": [
        {
          "output_type": "stream",
          "text": "3\n2\n1.7\n1.68\nHelp on built-in function round in module builtins:\n\nround(...)\n    round(number[, ndigits]) -> number\n    \n    Round a number to a given precision in decimal digits (default 0 digits).\n    This returns an int when called with one argument, otherwise the\n    same type as the number. ndigits may be negative.\n\n3\n[3, 2, 1]\n",
          "name": "stdout"
        }
      ]
    }
  ],
  "metadata": {
    "kernelspec": {
      "name": "python3",
      "display_name": "Python 3",
      "language": "python"
    },
    "language_info": {
      "mimetype": "text/x-python",
      "nbconvert_exporter": "python",
      "name": "python",
      "file_extension": ".py",
      "version": "3.5.4",
      "pygments_lexer": "ipython3",
      "codemirror_mode": {
        "version": 3,
        "name": "ipython"
      }
    }
  },
  "nbformat": 4,
  "nbformat_minor": 1
}