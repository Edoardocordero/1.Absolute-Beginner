{
  "cells": [
    {
      "metadata": {},
      "cell_type": "markdown",
      "source": "# Array Function"
    },
    {
      "metadata": {
        "trusted": true
      },
      "cell_type": "code",
      "source": "import numpy as np",
      "execution_count": 7,
      "outputs": []
    },
    {
      "metadata": {
        "trusted": true
      },
      "cell_type": "code",
      "source": "heights=[1.6, 1.8, 1.65, 1.7]\nweights=[56, 80, 71, 67]\nbmi=weights/heights**2\n# It doesn't work beacause they are LISTS and not ARRAYS",
      "execution_count": 9,
      "outputs": [
        {
          "output_type": "error",
          "ename": "TypeError",
          "evalue": "unsupported operand type(s) for ** or pow(): 'list' and 'int'",
          "traceback": [
            "\u001b[0;31m---------------------------------------------------------------------------\u001b[0m",
            "\u001b[0;31mTypeError\u001b[0m                                 Traceback (most recent call last)",
            "\u001b[0;32m<ipython-input-9-c80e8d14ba88>\u001b[0m in \u001b[0;36m<module>\u001b[0;34m()\u001b[0m\n\u001b[1;32m      1\u001b[0m \u001b[0mheights\u001b[0m\u001b[0;34m=\u001b[0m\u001b[0;34m[\u001b[0m\u001b[0;36m1.6\u001b[0m\u001b[0;34m,\u001b[0m \u001b[0;36m1.8\u001b[0m\u001b[0;34m,\u001b[0m \u001b[0;36m1.65\u001b[0m\u001b[0;34m,\u001b[0m \u001b[0;36m1.7\u001b[0m\u001b[0;34m]\u001b[0m\u001b[0;34m\u001b[0m\u001b[0m\n\u001b[1;32m      2\u001b[0m \u001b[0mweights\u001b[0m\u001b[0;34m=\u001b[0m\u001b[0;34m[\u001b[0m\u001b[0;36m56\u001b[0m\u001b[0;34m,\u001b[0m \u001b[0;36m80\u001b[0m\u001b[0;34m,\u001b[0m \u001b[0;36m71\u001b[0m\u001b[0;34m,\u001b[0m \u001b[0;36m67\u001b[0m\u001b[0;34m]\u001b[0m\u001b[0;34m\u001b[0m\u001b[0m\n\u001b[0;32m----> 3\u001b[0;31m \u001b[0mbmi\u001b[0m\u001b[0;34m=\u001b[0m\u001b[0mweights\u001b[0m\u001b[0;34m/\u001b[0m\u001b[0mheights\u001b[0m\u001b[0;34m**\u001b[0m\u001b[0;36m2\u001b[0m\u001b[0;34m\u001b[0m\u001b[0m\n\u001b[0m\u001b[1;32m      4\u001b[0m \u001b[0;31m# It doesn't work beacause they are LISTS and not ARRAYS\u001b[0m\u001b[0;34m\u001b[0m\u001b[0;34m\u001b[0m\u001b[0m\n",
            "\u001b[0;31mTypeError\u001b[0m: unsupported operand type(s) for ** or pow(): 'list' and 'int'"
          ]
        }
      ]
    },
    {
      "metadata": {
        "trusted": true
      },
      "cell_type": "code",
      "source": "np_heights=np.array(heights)\nnp_weights=np.array(weights)\nprint(\"Type: \", type(np_heights))",
      "execution_count": 10,
      "outputs": [
        {
          "output_type": "stream",
          "text": "Type:  <class 'numpy.ndarray'>\n",
          "name": "stdout"
        }
      ]
    },
    {
      "metadata": {
        "trusted": true
      },
      "cell_type": "code",
      "source": "bmi=np_weights/np_heights**2\nprint(bmi)",
      "execution_count": 8,
      "outputs": [
        {
          "output_type": "stream",
          "text": "[21.875      24.69135802 26.07897153 23.183391  ]\n",
          "name": "stdout"
        }
      ]
    },
    {
      "metadata": {},
      "cell_type": "markdown",
      "source": "- **Remarks**: array is a brand new object with its charateristics"
    },
    {
      "metadata": {
        "trusted": true
      },
      "cell_type": "code",
      "source": "python_list=[1, 2, 3]\npython_array=np.array([1, 2, 3])",
      "execution_count": 9,
      "outputs": []
    },
    {
      "metadata": {
        "trusted": true
      },
      "cell_type": "code",
      "source": "print(\"Sum of lists: \", python_list, \"+\", python_list, \"=\", python_list+python_list)\nprint(\"Sum of arrays: \", python_array, \"+\", python_array, \"=\", python_array+python_array)",
      "execution_count": 12,
      "outputs": [
        {
          "output_type": "stream",
          "text": "Sum of lists:  [1, 2, 3] + [1, 2, 3] = [1, 2, 3, 1, 2, 3]\nSum of arrays:  [1 2 3] + [1 2 3] = [2 4 6]\n",
          "name": "stdout"
        }
      ]
    },
    {
      "metadata": {
        "trusted": true
      },
      "cell_type": "code",
      "source": "print(\"The second person has a bmi of: \", bmi[1])",
      "execution_count": 13,
      "outputs": [
        {
          "output_type": "stream",
          "text": "The second person has a bmi of:  24.691358024691358\n",
          "name": "stdout"
        }
      ]
    },
    {
      "metadata": {
        "trusted": true
      },
      "cell_type": "code",
      "source": "high=bmi>23\nlow=bmi<23\nprint(\"high: \", high)\nprint(\"low: \", low, \"\\n\")\nprint(\"item(s) high: \", bmi[bmi>23])\nprint(\"item(s) low: \", bmi[low])",
      "execution_count": 26,
      "outputs": [
        {
          "output_type": "stream",
          "text": "high:  [False  True  True  True]\nlow:  [ True False False False] \n\nitem(s) high:  [24.69135802 26.07897153 23.183391  ]\nitem(s) low:  [21.875]\n",
          "name": "stdout"
        }
      ]
    },
    {
      "metadata": {
        "trusted": true
      },
      "cell_type": "code",
      "source": "np.array([True, 5, 2]) + np.array([1, 3, False])",
      "execution_count": 32,
      "outputs": [
        {
          "output_type": "execute_result",
          "execution_count": 32,
          "data": {
            "text/plain": "array([2, 8, 2])"
          },
          "metadata": {}
        }
      ]
    },
    {
      "metadata": {},
      "cell_type": "markdown",
      "source": "# 2D Arrays"
    },
    {
      "metadata": {
        "trusted": true
      },
      "cell_type": "code",
      "source": "np_2d=np.array([[1.71, 1.68, 1.80, 1.75], \n                [68.0, 74.0, 85.0, 76.0]])\nprint(np_2d)",
      "execution_count": 15,
      "outputs": [
        {
          "output_type": "stream",
          "text": "[[ 1.71  1.68  1.8   1.75]\n [68.   74.   85.   76.  ]]\n",
          "name": "stdout"
        }
      ]
    },
    {
      "metadata": {
        "trusted": true
      },
      "cell_type": "code",
      "source": "print(\"Liz: \", np_2d[:, 1], \"\\n\")\nprint(\"Liz's height: \", np_2d[0,1])\nprint(\"Liz's weight: \", np_2d[1,1])",
      "execution_count": 16,
      "outputs": [
        {
          "output_type": "stream",
          "text": "Liz:  [ 1.68 74.  ] \n\nLiz's height:  1.68\nLiz's weight:  74.0\n",
          "name": "stdout"
        }
      ]
    },
    {
      "metadata": {
        "trusted": true
      },
      "cell_type": "code",
      "source": "print(type(np_2d), \"\\n\")\nprint(\"The matrix's shape:\\t\", np_2d.shape)\n",
      "execution_count": 17,
      "outputs": [
        {
          "output_type": "stream",
          "text": "<class 'numpy.ndarray'> \n\nThe matrix's shape:\t (2, 4)\n",
          "name": "stdout"
        }
      ]
    },
    {
      "metadata": {
        "trusted": true
      },
      "cell_type": "markdown",
      "source": "- ***Math operations***"
    },
    {
      "metadata": {
        "trusted": true
      },
      "cell_type": "code",
      "source": "np_mat=np.array([[1,2],\n                [3,4],\n                [5,6]])\nprint(np_mat, \"\\t has shape: \", np_mat.shape)",
      "execution_count": 18,
      "outputs": [
        {
          "output_type": "stream",
          "text": "[[1 2]\n [3 4]\n [5 6]] \t has shape:  (3, 2)\n",
          "name": "stdout"
        }
      ]
    },
    {
      "metadata": {
        "trusted": true
      },
      "cell_type": "code",
      "source": "add=np_mat+np.array([10, 10])\nprint(add,\"\\tAdd a vector [10, 10] to the matrix\")",
      "execution_count": 20,
      "outputs": [
        {
          "output_type": "stream",
          "text": "[[11 12]\n [13 14]\n [15 16]] \tAdd a vector [10, 10] to the matrix\n",
          "name": "stdout"
        }
      ]
    },
    {
      "metadata": {
        "trusted": true
      },
      "cell_type": "code",
      "source": "mult_scal=np_mat*2\nprint(mult_scal, \"\\tMultiply for a scalar\")",
      "execution_count": 23,
      "outputs": [
        {
          "output_type": "stream",
          "text": "[[ 2  4]\n [ 6  8]\n [10 12]] \tMultiply for a scalar\n",
          "name": "stdout"
        }
      ]
    },
    {
      "metadata": {
        "trusted": true
      },
      "cell_type": "code",
      "source": "mult_hor_vect1=np_mat* np.array([1.1, 2.2])\nprint(mult_hor_vect1, \"\\tMultiply for a vector: matrix\", np_mat.shape, \" *vector (1x2)\\n\")\n\nmult_hor_vect2=np.array([1.1, 2.2])* np_mat\nprint(mult_hor_vect2, \"\\tMultiply for a vector: vector (1x2) *matrix (3x2)\")",
      "execution_count": 32,
      "outputs": [
        {
          "output_type": "stream",
          "text": "[[ 1.1  4.4]\n [ 3.3  8.8]\n [ 5.5 13.2]] \tMultiply for a vector: matrix (3, 2)  *vector (1x2)\n\n[[ 1.1  4.4]\n [ 3.3  8.8]\n [ 5.5 13.2]] \tMultiply for a vector: vector (1x2) *matrix (3x2)\n",
          "name": "stdout"
        }
      ]
    },
    {
      "metadata": {
        "trusted": true
      },
      "cell_type": "code",
      "source": "mult_ver_vect1=np_mat* np.array([[1.1],\n                                [2.2]])\nprint(mult_ver_vect1, \"\\tMultiply for a vector: matrix\", np_mat.shape, \" *vector(1x2)\\n\")\n\nmult_ver_vect2=np.array([1.1, 2.2])* np_mat\nprint(mult_ver_vect2, \"\\tMultiply for a vector: vector(1x2)*matrix(3x2)\")",
      "execution_count": 31,
      "outputs": [
        {
          "output_type": "error",
          "ename": "ValueError",
          "evalue": "operands could not be broadcast together with shapes (3,2) (2,1) ",
          "traceback": [
            "\u001b[0;31m---------------------------------------------------------------------------\u001b[0m",
            "\u001b[0;31mValueError\u001b[0m                                Traceback (most recent call last)",
            "\u001b[0;32m<ipython-input-31-ee3a099d9193>\u001b[0m in \u001b[0;36m<module>\u001b[0;34m()\u001b[0m\n\u001b[1;32m      1\u001b[0m mult_ver_vect1=np_mat* np.array([[1.1],\n\u001b[0;32m----> 2\u001b[0;31m                                 [2.2]])\n\u001b[0m\u001b[1;32m      3\u001b[0m \u001b[0mprint\u001b[0m\u001b[0;34m(\u001b[0m\u001b[0mmult_ver_vect1\u001b[0m\u001b[0;34m,\u001b[0m \u001b[0;34m\"\\tMultiply for a vector: matrix\"\u001b[0m\u001b[0;34m,\u001b[0m \u001b[0mnp_mat\u001b[0m\u001b[0;34m.\u001b[0m\u001b[0mshape\u001b[0m\u001b[0;34m,\u001b[0m \u001b[0;34m\" *vector(1x2)\\n\"\u001b[0m\u001b[0;34m)\u001b[0m\u001b[0;34m\u001b[0m\u001b[0m\n\u001b[1;32m      4\u001b[0m \u001b[0;34m\u001b[0m\u001b[0m\n\u001b[1;32m      5\u001b[0m \u001b[0mmult_ver_vect2\u001b[0m\u001b[0;34m=\u001b[0m\u001b[0mnp\u001b[0m\u001b[0;34m.\u001b[0m\u001b[0marray\u001b[0m\u001b[0;34m(\u001b[0m\u001b[0;34m[\u001b[0m\u001b[0;36m1.1\u001b[0m\u001b[0;34m,\u001b[0m \u001b[0;36m2.2\u001b[0m\u001b[0;34m]\u001b[0m\u001b[0;34m)\u001b[0m\u001b[0;34m*\u001b[0m \u001b[0mnp_mat\u001b[0m\u001b[0;34m\u001b[0m\u001b[0m\n",
            "\u001b[0;31mValueError\u001b[0m: operands could not be broadcast together with shapes (3,2) (2,1) "
          ]
        }
      ]
    },
    {
      "metadata": {
        "trusted": true
      },
      "cell_type": "code",
      "source": "first_col=np_mat[:, 0]\nprint(first_col)",
      "execution_count": 33,
      "outputs": [
        {
          "output_type": "stream",
          "text": "[1 3 5]\n",
          "name": "stdout"
        }
      ]
    },
    {
      "metadata": {
        "trusted": true
      },
      "cell_type": "code",
      "source": "# With this method if the new variable is modified, the new value will affect also the old 2d array\n\nfirst_col[1]=4\nprint(first_col)\nprint(np_mat)",
      "execution_count": 35,
      "outputs": [
        {
          "output_type": "stream",
          "text": "[1 4 5]\n[[1 2]\n [4 4]\n [5 6]]\n",
          "name": "stdout"
        }
      ]
    },
    {
      "metadata": {
        "trusted": true
      },
      "cell_type": "code",
      "source": "",
      "execution_count": null,
      "outputs": []
    },
    {
      "metadata": {
        "trusted": true
      },
      "cell_type": "code",
      "source": "",
      "execution_count": null,
      "outputs": []
    },
    {
      "metadata": {
        "trusted": true
      },
      "cell_type": "code",
      "source": "",
      "execution_count": null,
      "outputs": []
    },
    {
      "metadata": {
        "trusted": true
      },
      "cell_type": "code",
      "source": "",
      "execution_count": null,
      "outputs": []
    },
    {
      "metadata": {
        "trusted": true
      },
      "cell_type": "code",
      "source": "",
      "execution_count": null,
      "outputs": []
    },
    {
      "metadata": {
        "trusted": true
      },
      "cell_type": "code",
      "source": "",
      "execution_count": null,
      "outputs": []
    },
    {
      "metadata": {
        "trusted": true
      },
      "cell_type": "code",
      "source": "",
      "execution_count": null,
      "outputs": []
    },
    {
      "metadata": {
        "trusted": true
      },
      "cell_type": "code",
      "source": "",
      "execution_count": null,
      "outputs": []
    },
    {
      "metadata": {
        "trusted": true
      },
      "cell_type": "code",
      "source": "",
      "execution_count": null,
      "outputs": []
    }
  ],
  "metadata": {
    "kernelspec": {
      "name": "python3",
      "display_name": "Python 3",
      "language": "python"
    },
    "language_info": {
      "mimetype": "text/x-python",
      "nbconvert_exporter": "python",
      "name": "python",
      "pygments_lexer": "ipython3",
      "version": "3.5.4",
      "file_extension": ".py",
      "codemirror_mode": {
        "version": 3,
        "name": "ipython"
      }
    }
  },
  "nbformat": 4,
  "nbformat_minor": 1
}