{
  "cells": [
    {
      "metadata": {
        "collapsed": true
      },
      "cell_type": "markdown",
      "source": "Import"
    },
    {
      "metadata": {
        "trusted": true
      },
      "cell_type": "code",
      "source": "import pandas as pd\nimport matplotlib.pyplot as plt\nfrom pandas_datareader import DataReader\nfrom datetime import date",
      "execution_count": null,
      "outputs": []
    },
    {
      "metadata": {
        "trusted": true
      },
      "cell_type": "code",
      "source": "filename='C:/Users/Edoardo/Desktop/company amex.xlsx'",
      "execution_count": null,
      "outputs": []
    },
    {
      "metadata": {
        "trusted": true
      },
      "cell_type": "code",
      "source": "nasdaq=pd.read_excel(filename, na_values='n/a')\nnasdaq.info()",
      "execution_count": null,
      "outputs": []
    },
    {
      "metadata": {},
      "cell_type": "markdown",
      "source": "set symbol as **index**"
    },
    {
      "metadata": {
        "trusted": true
      },
      "cell_type": "code",
      "source": "nasdaq=nasdaqu.set_index('Symbol')",
      "execution_count": null,
      "outputs": []
    },
    {
      "metadata": {},
      "cell_type": "markdown",
      "source": "***.nlargest(*** *n* ***)***\n- find the first n data "
    },
    {
      "metadata": {
        "trusted": true
      },
      "cell_type": "code",
      "source": "top_5=nasdaq['MarketCap'].nlargest(5)\nprint(top_5)\n\ntype(top_5)  # <class 'pandas.core.series.Series'>",
      "execution_count": null,
      "outputs": []
    },
    {
      "metadata": {},
      "cell_type": "markdown",
      "source": "***.index***\n- it gives back the index of your serie"
    },
    {
      "metadata": {
        "trusted": true
      },
      "cell_type": "code",
      "source": "print(top_5.index)    #.index mi restituisce gli indici, top_5 contiene la marketcap e non non i simboli",
      "execution_count": null,
      "outputs": []
    },
    {
      "metadata": {},
      "cell_type": "markdown",
      "source": "visualise data"
    },
    {
      "metadata": {
        "trusted": true
      },
      "cell_type": "code",
      "source": "nasdaq.loc[top_5.index]  #con questa struttura visualizzo\n#stessa cosa che .sort_values per market cap e poi .head()",
      "execution_count": null,
      "outputs": []
    },
    {
      "metadata": {},
      "cell_type": "markdown",
      "source": "***.div(*** *n* ***)***\n- divide by n"
    },
    {
      "metadata": {
        "trusted": true
      },
      "cell_type": "code",
      "source": "top_5_div=top_5.div(1000000) #mostra la market cap in milioni\nprint(top_5_div)",
      "execution_count": null,
      "outputs": []
    },
    {
      "metadata": {},
      "cell_type": "markdown",
      "source": "***.index.tolist()***\n- to have the index in a list"
    },
    {
      "metadata": {
        "trusted": true
      },
      "cell_type": "code",
      "source": "# per avere i simboli in una lista si usa questa scrittura\ntickers=top_5.index.tolist()\nprint(tickers)",
      "execution_count": null,
      "outputs": []
    },
    {
      "metadata": {},
      "cell_type": "markdown",
      "source": "**get data** for tickers **from other columns**"
    },
    {
      "metadata": {
        "trusted": true
      },
      "cell_type": "code",
      "source": "tickers_name=nasdaq.loc[tickers, 'Name']\nprint(tickers_name)",
      "execution_count": null,
      "outputs": []
    },
    {
      "metadata": {},
      "cell_type": "markdown",
      "source": "get all data for tickers"
    },
    {
      "metadata": {
        "trusted": true
      },
      "cell_type": "code",
      "source": "nasdaq.loc[tickers]",
      "execution_count": null,
      "outputs": []
    },
    {
      "metadata": {},
      "cell_type": "markdown",
      "source": "download data"
    },
    {
      "metadata": {
        "trusted": true
      },
      "cell_type": "code",
      "source": "#scarico i dati di queste compagnie\n\npanel = DataReader(tickers, 'yahoo', start=date(2015, 1, 1)) \npanel.info()",
      "execution_count": null,
      "outputs": []
    },
    {
      "metadata": {
        "trusted": true
      },
      "cell_type": "code",
      "source": "close=panel['Adj Close']",
      "execution_count": null,
      "outputs": []
    },
    {
      "metadata": {
        "trusted": true
      },
      "cell_type": "code",
      "source": "#questo è il risultato che volevo\n\nclose.info()",
      "execution_count": null,
      "outputs": []
    },
    {
      "metadata": {},
      "cell_type": "markdown",
      "source": "**.plot(subplots=True)**\n- create subplots"
    },
    {
      "metadata": {
        "trusted": true
      },
      "cell_type": "code",
      "source": "close.plot(subplots=True)\nplt.show()\n\nfor i in range(1,6):\n        print(i, ':\\t', tickers_name[i-1])",
      "execution_count": null,
      "outputs": []
    },
    {
      "metadata": {},
      "cell_type": "markdown",
      "source": " "
    },
    {
      "metadata": {},
      "cell_type": "markdown",
      "source": "  "
    },
    {
      "metadata": {},
      "cell_type": "markdown",
      "source": "# Multindex"
    },
    {
      "metadata": {
        "trusted": true
      },
      "cell_type": "code",
      "source": "unstacked = panel['Adj Close'].unstack()",
      "execution_count": null,
      "outputs": []
    },
    {
      "metadata": {
        "trusted": true
      },
      "cell_type": "code",
      "source": "print(type(unstacked))\nprint('\\n\\n\\n', unstacked)",
      "execution_count": null,
      "outputs": []
    },
    {
      "metadata": {
        "trusted": true
      },
      "cell_type": "code",
      "source": "unstacked=pd.DataFrame(unstacked, columns=['Symbols'])",
      "execution_count": null,
      "outputs": []
    }
  ],
  "metadata": {
    "kernelspec": {
      "name": "python36",
      "display_name": "Python 3.6",
      "language": "python"
    },
    "language_info": {
      "mimetype": "text/x-python",
      "nbconvert_exporter": "python",
      "name": "python",
      "pygments_lexer": "ipython3",
      "version": "3.6.6",
      "file_extension": ".py",
      "codemirror_mode": {
        "version": 3,
        "name": "ipython"
      }
    }
  },
  "nbformat": 4,
  "nbformat_minor": 2
}