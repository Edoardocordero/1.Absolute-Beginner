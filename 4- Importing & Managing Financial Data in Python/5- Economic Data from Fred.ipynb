{
  "cells": [
    {
      "metadata": {},
      "cell_type": "markdown",
      "source": "**Federal Reserve Economic Data (FRED)** :\n\n500,000 series covering a range of categories: \n- Economic growth & employment \n- Monetary & ﬁscal policy \n- Demographics, industries, commodity prices \n- Daily, monthly, annual frequencies"
    },
    {
      "metadata": {
        "trusted": true
      },
      "cell_type": "code",
      "source": "from pandas_datareader.data import DataReader\nfrom datetime import date\nimport matplotlib.pyplot as plt\nimport pandas as pd",
      "execution_count": null,
      "outputs": []
    },
    {
      "metadata": {},
      "cell_type": "markdown",
      "source": "**fred** as data source"
    },
    {
      "metadata": {
        "trusted": true
      },
      "cell_type": "code",
      "source": "start=date(1968,1,1)\nseries_code=\"GS10\"\ndata_source='fred'\ndata=DataReader(series_code, data_source, start)",
      "execution_count": null,
      "outputs": []
    },
    {
      "metadata": {},
      "cell_type": "markdown",
      "source": "**.rename(columns={old name:new name})**"
    },
    {
      "metadata": {
        "trusted": true
      },
      "cell_type": "code",
      "source": "series_name='10-year Treausury'\ndata=data.rename(columns={series_code:series_name})",
      "execution_count": null,
      "outputs": []
    },
    {
      "metadata": {
        "trusted": true
      },
      "cell_type": "code",
      "source": "data['10-year Treausury'].plot(title=series_name); plt.show()",
      "execution_count": null,
      "outputs": []
    },
    {
      "metadata": {},
      "cell_type": "markdown",
      "source": "**combine** stocks and economic data"
    },
    {
      "metadata": {
        "trusted": true
      },
      "cell_type": "code",
      "source": "start=date(2000,1,1)\nseries_code='DCOILWTICO' # West Texas Intermediate Oil Price '\noil=DataReader(series_code, 'fred', start)\nticker='XOM' # Exxon Mobile Corporation\nstock=DataReader(ticker, 'yahoo', start)",
      "execution_count": null,
      "outputs": []
    },
    {
      "metadata": {},
      "cell_type": "markdown",
      "source": "rename"
    },
    {
      "metadata": {
        "trusted": true
      },
      "cell_type": "code",
      "source": "oil_name='West Texas Int. Oil Price'\nstock_name='Exxon Mobile Corp.'\noil=oil.rename(columns={series_code: oil_name})\nstock=stock.rename(columns={ticker: stock_name})\n\noil.info()\nprint(\"\\n\\n\")\nstock.info()",
      "execution_count": null,
      "outputs": []
    },
    {
      "metadata": {},
      "cell_type": "markdown",
      "source": "data=**pd.concat(** *[stock[column], oil)* **,** ***axis=1*** **)**\n- axis : {0/'index', 1/'columns'}, default 0. The axis to concatenate along"
    },
    {
      "metadata": {
        "trusted": true
      },
      "cell_type": "code",
      "source": "data=pd.concat([stock['Close'], oil], axis=1)\ndata.info()",
      "execution_count": null,
      "outputs": []
    },
    {
      "metadata": {
        "trusted": true
      },
      "cell_type": "code",
      "source": "data.plot(); plt.show()",
      "execution_count": null,
      "outputs": []
    }
  ],
  "metadata": {
    "kernelspec": {
      "name": "python3",
      "display_name": "Python 3",
      "language": "python"
    },
    "language_info": {
      "mimetype": "text/x-python",
      "nbconvert_exporter": "python",
      "name": "python",
      "pygments_lexer": "ipython3",
      "version": "3.5.4",
      "file_extension": ".py",
      "codemirror_mode": {
        "version": 3,
        "name": "ipython"
      }
    }
  },
  "nbformat": 4,
  "nbformat_minor": 1
}