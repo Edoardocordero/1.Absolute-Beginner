{
  "cells": [
    {
      "metadata": {
        "collapsed": true,
        "trusted": false
      },
      "cell_type": "code",
      "source": "import pandas as pd",
      "execution_count": null,
      "outputs": []
    },
    {
      "metadata": {},
      "cell_type": "markdown",
      "source": "Add **xlsx** at the end of the file"
    },
    {
      "metadata": {
        "trusted": true
      },
      "cell_type": "code",
      "source": "filename='C:/Users/Edoardo/Desktop/filefamiglia.xlsx'",
      "execution_count": null,
      "outputs": []
    },
    {
      "metadata": {},
      "cell_type": "markdown",
      "source": "Use **pd.read_excel(** *filename* **)** it will read teh first sheet by default"
    },
    {
      "metadata": {
        "trusted": true
      },
      "cell_type": "code",
      "source": "family_scuola=pd.read_excel(filename, parse_dates=['data di nascita'])\nfamily.info()\nfamily.head()",
      "execution_count": null,
      "outputs": []
    },
    {
      "metadata": {},
      "cell_type": "markdown",
      "source": "With **sheet_name=1** it reads the first sheet"
    },
    {
      "metadata": {
        "trusted": true
      },
      "cell_type": "code",
      "source": "family_casa=pd.read_excel(filename, sheet_name=1)\nfamily_casa.info()\nfamily_casa.head()",
      "execution_count": null,
      "outputs": []
    },
    {
      "metadata": {},
      "cell_type": "markdown",
      "source": "With **sheet_name='name'** it reads the sheet called='name'"
    },
    {
      "metadata": {
        "trusted": true
      },
      "cell_type": "code",
      "source": "family_mare=pd.read_excel(filename, sheet_name='Mare', parse_dates=['inizio vacanze'])\nfamily_mare.info()\nfamily_mare.head()",
      "execution_count": null,
      "outputs": []
    },
    {
      "metadata": {},
      "cell_type": "markdown",
      "source": "Get file with **xls=pd.ExcelFile(** *filename* **)** and get sheet names with **names=xls.sheet_names()**, nb that names is a list!"
    },
    {
      "metadata": {
        "trusted": true
      },
      "cell_type": "code",
      "source": "xls=pd.ExcelFile(filename)\nprint(xls)\nfamily_luoghi=xls.sheet_names\nprint(family_luoghi)\nprint(\"Da settembre inizia la \", family_luoghi[0], \"le nostre vacanze sono state:\\n\")\n\nfamily_mare=pd.read_excel(filename, sheet_name=family_luoghi[2])\nfamily_mare.head()",
      "execution_count": null,
      "outputs": []
    }
  ],
  "metadata": {
    "kernelspec": {
      "name": "python36",
      "display_name": "Python 3.6",
      "language": "python"
    },
    "language_info": {
      "mimetype": "text/x-python",
      "nbconvert_exporter": "python",
      "name": "python",
      "pygments_lexer": "ipython3",
      "version": "3.6.6",
      "file_extension": ".py",
      "codemirror_mode": {
        "version": 3,
        "name": "ipython"
      }
    }
  },
  "nbformat": 4,
  "nbformat_minor": 2
}