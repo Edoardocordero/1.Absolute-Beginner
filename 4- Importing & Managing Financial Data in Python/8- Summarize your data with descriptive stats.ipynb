{
  "cells": [
    {
      "metadata": {
        "collapsed": true
      },
      "cell_type": "markdown",
      "source": "import libraries"
    },
    {
      "metadata": {
        "trusted": true
      },
      "cell_type": "code",
      "source": "import pandas as pd\nimport matplotlib.pyplot as plt\nfrom pandas_datareader import DataReader",
      "execution_count": null,
      "outputs": []
    },
    {
      "metadata": {},
      "cell_type": "markdown",
      "source": "import data"
    },
    {
      "metadata": {
        "trusted": true
      },
      "cell_type": "code",
      "source": "filename='C:/Users/Edoardo/Desktop/company amex.xlsx'",
      "execution_count": null,
      "outputs": []
    },
    {
      "metadata": {
        "trusted": true
      },
      "cell_type": "code",
      "source": "amex=pd.read_excel(filename, na_values='n/a')\namex.info()\namex.head(2)",
      "execution_count": null,
      "outputs": []
    },
    {
      "metadata": {},
      "cell_type": "markdown",
      "source": "create a **panda series** with the column we want to analyse (in **$mil**)"
    },
    {
      "metadata": {
        "trusted": true
      },
      "cell_type": "code",
      "source": "market_cap=amex['MarketCap'].div(10**6)\nprint(type(market_cap))\nprint(\"\\n\\n\\n\", market_cap)",
      "execution_count": null,
      "outputs": []
    },
    {
      "metadata": {},
      "cell_type": "markdown",
      "source": "get **mean**, **median** and **mode**"
    },
    {
      "metadata": {
        "trusted": true
      },
      "cell_type": "code",
      "source": "mean=market_cap.mean()\nmedian=market_cap.median()\nmode=market_cap.mode()\n\nprint('Mean:\\t', mean, '\\nMedian:\\t', median, '\\nMode:\\t', mode)",
      "execution_count": null,
      "outputs": []
    },
    {
      "metadata": {},
      "cell_type": "markdown",
      "source": "get **variance** and **standard deviation**"
    },
    {
      "metadata": {
        "trusted": true
      },
      "cell_type": "code",
      "source": "var=market_cap.var()\nstd=market_cap.std()\n\nprint('Variance:\\t', var, '\\nStandard Deviation:\\t', std)",
      "execution_count": null,
      "outputs": []
    }
  ],
  "metadata": {
    "kernelspec": {
      "name": "python36",
      "display_name": "Python 3.6",
      "language": "python"
    },
    "language_info": {
      "mimetype": "text/x-python",
      "nbconvert_exporter": "python",
      "name": "python",
      "pygments_lexer": "ipython3",
      "version": "3.6.6",
      "file_extension": ".py",
      "codemirror_mode": {
        "version": 3,
        "name": "ipython"
      }
    }
  },
  "nbformat": 4,
  "nbformat_minor": 2
}