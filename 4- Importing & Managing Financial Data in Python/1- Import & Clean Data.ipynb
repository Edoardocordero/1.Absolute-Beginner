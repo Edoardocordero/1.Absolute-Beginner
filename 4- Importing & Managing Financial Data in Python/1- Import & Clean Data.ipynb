{
  "cells": [
    {
      "metadata": {
        "collapsed": true
      },
      "cell_type": "markdown",
      "source": "# Import"
    },
    {
      "metadata": {},
      "cell_type": "markdown",
      "source": "- import ***pandas***"
    },
    {
      "metadata": {
        "trusted": true
      },
      "cell_type": "code",
      "source": "import pandas as pd",
      "execution_count": null,
      "outputs": []
    },
    {
      "metadata": {},
      "cell_type": "markdown",
      "source": "- read: ***pd.read_csv()***\n\n\n the file in the local computer cannot be read by browser! You have to open Jupyter on your computer and not on browser \n \n- pd.read_csv ( ***path.csv***, ***sep***, ***engine='python'***  [ if sep>1 ])"
    },
    {
      "metadata": {
        "trusted": true
      },
      "cell_type": "code",
      "source": "# Each column is separated by a ,\"\namex=pd.read_csv('C:/Users/Edoardo/Desktop/companylist.csv', sep= ',\"', engine='python')",
      "execution_count": null,
      "outputs": []
    },
    {
      "metadata": {
        "trusted": true
      },
      "cell_type": "code",
      "source": "#Here we use the separation default value ,\nhosp=pd.read_csv('C:/Users/Edoardo/Desktop/Performance_degli_Ospedali')",
      "execution_count": null,
      "outputs": []
    },
    {
      "metadata": {},
      "cell_type": "markdown",
      "source": "- info: ***amex.info()***"
    },
    {
      "metadata": {},
      "cell_type": "markdown",
      "source": "Each column has its own format data type called *dtype*\n- **object**: text **or** a mix of text and numeric data\n- **int64**: numeric whole number\n- **float64**: numeric decimals **or** whole numbers with missing values\n- **datetime64**: date and time information"
    },
    {
      "metadata": {
        "trusted": true
      },
      "cell_type": "code",
      "source": "amex.info()\nhosp.info()\n\n# Entries = number of rows\n# name of column- entries- null/non-null- dtype\n# dtypes= object ( #of objects ), float64 ( #of floats64  )...",
      "execution_count": null,
      "outputs": []
    },
    {
      "metadata": {},
      "cell_type": "markdown",
      "source": "- **deal with missing files**\n- if there are too many objects and few numeri types (as int64 or float 64) it means that there are missing values, often replace in the file by 'n/a'\n- just add the parameter ***na_values= ***"
    },
    {
      "metadata": {
        "trusted": true
      },
      "cell_type": "code",
      "source": "amex=pd.read_csv('C:/Users/Edoardo/Desktop/companylist.csv', sep= ',\"', engine='python', na_values='n/a')\nhosp=pd.read_csv('C:/Users/Edoardo/Desktop/Performance_degli_Ospedali', na_values='n/a')",
      "execution_count": null,
      "outputs": []
    }
  ],
  "metadata": {
    "kernelspec": {
      "name": "python36",
      "display_name": "Python 3.6",
      "language": "python"
    },
    "language_info": {
      "mimetype": "text/x-python",
      "nbconvert_exporter": "python",
      "name": "python",
      "pygments_lexer": "ipython3",
      "version": "3.6.6",
      "file_extension": ".py",
      "codemirror_mode": {
        "version": 3,
        "name": "ipython"
      }
    }
  },
  "nbformat": 4,
  "nbformat_minor": 2
}