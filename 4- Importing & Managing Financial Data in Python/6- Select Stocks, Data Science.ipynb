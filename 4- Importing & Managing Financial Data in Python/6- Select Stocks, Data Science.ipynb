{
  "cells": [
    {
      "metadata": {
        "trusted": true
      },
      "cell_type": "markdown",
      "source": "import:\n- **pandas** \n- **matlotlib.pyplot**\n- **DataReader** from *pandas_datareader*"
    },
    {
      "metadata": {
        "trusted": true
      },
      "cell_type": "code",
      "source": "import pandas as pd\nimport matplotlib.pyplot as plt\nfrom pandas_datareader import DataReader",
      "execution_count": null,
      "outputs": []
    },
    {
      "metadata": {
        "trusted": true
      },
      "cell_type": "code",
      "source": "amex=pd.read_csv('C:/Users/Edoardo/Desktop/amex-listings.csv', sep= \";\", na_values='n/a')\namex.info()",
      "execution_count": null,
      "outputs": []
    },
    {
      "metadata": {},
      "cell_type": "markdown",
      "source": "- **sort_values[** *column* **,** *ascending=True/False* **]** "
    },
    {
      "metadata": {
        "trusted": true
      },
      "cell_type": "code",
      "source": "amex=amex.sort_values('LastSale', ascending=False)",
      "execution_count": null,
      "outputs": []
    },
    {
      "metadata": {},
      "cell_type": "markdown",
      "source": "as values now are sorted, we show the first five companies for last sale (head) Symbol, Name, Last Sale with\n- **data[** *[column1, column2, colmn3]* **]**\n"
    },
    {
      "metadata": {
        "trusted": true
      },
      "cell_type": "code",
      "source": "amex[['Symbol', 'Name', 'LastSale']].head()",
      "execution_count": null,
      "outputs": []
    },
    {
      "metadata": {},
      "cell_type": "markdown",
      "source": "call the first company for last sale: largest_by_lastsale\n- data.**iloc[** *n* **]** - select the whole #n row \n- then we can easily access that row"
    },
    {
      "metadata": {
        "trusted": true
      },
      "cell_type": "code",
      "source": "largest_by_lastsale=amex.iloc[0] # First row\nprint(\"Symbol: \", largest_by_lastsale['Symbol']) # select a column by name\nprint(\"Name:   \", largest_by_lastsale[1]) # select a column by index\n\nprint(\"\\n\\n\",largest_by_lastsale)",
      "execution_count": null,
      "outputs": []
    },
    {
      "metadata": {},
      "cell_type": "markdown",
      "source": "we change the index, by default it is the entries\n- data = data.**set_index(** *new index* **)**"
    },
    {
      "metadata": {
        "trusted": true
      },
      "cell_type": "code",
      "source": "amex=amex.set_index(\"Symbol\")",
      "execution_count": null,
      "outputs": []
    },
    {
      "metadata": {
        "trusted": true
      },
      "cell_type": "code",
      "source": "amex.info()\n# look at the change",
      "execution_count": null,
      "outputs": []
    },
    {
      "metadata": {},
      "cell_type": "markdown",
      "source": "search the maximum index in the categori of 'LastSale'\n- data[ 'Price' ].**idmax()**"
    },
    {
      "metadata": {
        "trusted": true
      },
      "cell_type": "code",
      "source": "amex['LastSale'].idxmax()",
      "execution_count": null,
      "outputs": []
    },
    {
      "metadata": {},
      "cell_type": "markdown",
      "source": "call al the informations for a company with a specific symbol (which is now an **index**)\n- data.**loc[** *symbol* **]**"
    },
    {
      "metadata": {
        "trusted": true
      },
      "cell_type": "code",
      "source": "amex.loc['SEB']",
      "execution_count": null,
      "outputs": []
    },
    {
      "metadata": {},
      "cell_type": "markdown",
      "source": "if we want to call for a column which is **not an index** for example the name\n- data.**loc[** *data.Name== 'Company Name'* **]**"
    },
    {
      "metadata": {
        "trusted": true
      },
      "cell_type": "code",
      "source": "amex.loc[amex.Name=='Seaboard Corporation']",
      "execution_count": null,
      "outputs": []
    },
    {
      "metadata": {},
      "cell_type": "markdown",
      "source": "to make an **array** with the items in a column\n- my_array=*data[column]*\n\nto make an **array** with the unique items in a column\n- my_array=*data[column]*. **unique**"
    },
    {
      "metadata": {
        "trusted": true
      },
      "cell_type": "code",
      "source": "sector_array=amex['Sector'].unique()\nsector_array",
      "execution_count": null,
      "outputs": []
    },
    {
      "metadata": {
        "trusted": true
      },
      "cell_type": "code",
      "source": "# Print all the companies which work in the Sector of Technology\n\ntech=amex.loc[amex.Sector=='Technology']\nprint(tech)",
      "execution_count": null,
      "outputs": []
    },
    {
      "metadata": {
        "trusted": true
      },
      "cell_type": "code",
      "source": "# First five tech for last sale (as tech was already sorted for LastSale)\n\ntech[['Name', 'Industry']].head(5)",
      "execution_count": null,
      "outputs": []
    },
    {
      "metadata": {},
      "cell_type": "markdown",
      "source": "- 1 print the maximum symbol (our **index**) for LastSale in the *Industry* of **Precious Metals**\n- 2 get the **array** of companies in the precious metals sector, **sorted** for LastSale"
    },
    {
      "metadata": {
        "trusted": true
      },
      "cell_type": "code",
      "source": "# N.B. look how the idxmax() refers to LastSale\n\nprint(amex.loc[amex.Industry=='Precious Metals', 'LastSale'].idxmax())\namex_prec=amex.loc[amex.Industry=='Precious Metals'].sort_values('LastSale', ascending=False)",
      "execution_count": null,
      "outputs": []
    },
    {
      "metadata": {},
      "cell_type": "markdown",
      "source": "get data for the largest largest company in semiconductors\n- get data--> ( **.loc()** )\n- largest--> (*already sorted* : **.sort_values()**) , we are using LastSale for idxmax (index is the symbol) so .loc(...**,'Lastsale'**).idxmax()\n- technology company in semiconductors --> **(amex.Sector=='Technology') & (amex['Industry']=='Semiconductors')**"
    },
    {
      "metadata": {
        "trusted": true
      },
      "cell_type": "code",
      "source": "# The output is the index\n\ntech_sem=amex.loc[(amex.Sector=='Technology') & (amex['Industry']=='Semiconductors'), 'LastSale'].idxmax()",
      "execution_count": null,
      "outputs": []
    },
    {
      "metadata": {
        "trusted": true
      },
      "cell_type": "code",
      "source": "# The output is the Symbol because this is now the index\n\nprint(tech_sem)",
      "execution_count": null,
      "outputs": []
    },
    {
      "metadata": {
        "trusted": true
      },
      "cell_type": "code",
      "source": "# The output is a line with all informations about the company\n\namex.loc[(amex.Sector=='Technology') & (amex['Industry']=='Semiconductors')]",
      "execution_count": null,
      "outputs": []
    },
    {
      "metadata": {},
      "cell_type": "markdown",
      "source": "read complete financial data of our company of Yahoo Finance using the index"
    },
    {
      "metadata": {
        "trusted": true
      },
      "cell_type": "code",
      "source": "data=DataReader(tech_sem,'yahoo')\ndata.info()",
      "execution_count": null,
      "outputs": []
    },
    {
      "metadata": {
        "trusted": true
      },
      "cell_type": "code",
      "source": "# I only need Close and Volume\n\ndata=data.loc[:,['Close', 'Volume']]\ndata.info()",
      "execution_count": null,
      "outputs": []
    },
    {
      "metadata": {},
      "cell_type": "markdown",
      "source": "plot the data"
    },
    {
      "metadata": {
        "trusted": true
      },
      "cell_type": "code",
      "source": "data.plot(title=tech_sem, secondary_y='Volume')\nplt.tight_layout(); plt.show()\ntype(data)",
      "execution_count": null,
      "outputs": []
    }
  ],
  "metadata": {
    "kernelspec": {
      "name": "python3",
      "display_name": "Python 3",
      "language": "python"
    },
    "language_info": {
      "mimetype": "text/x-python",
      "nbconvert_exporter": "python",
      "name": "python",
      "file_extension": ".py",
      "version": "3.5.4",
      "pygments_lexer": "ipython3",
      "codemirror_mode": {
        "version": 3,
        "name": "ipython"
      }
    }
  },
  "nbformat": 4,
  "nbformat_minor": 1
}