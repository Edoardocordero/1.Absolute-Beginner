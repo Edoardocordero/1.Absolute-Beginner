{
  "cells": [
    {
      "metadata": {},
      "cell_type": "markdown",
      "source": "- import ***DataReader*** from pandas_datareader\n- import ***date*** from datetime\n- import ***pandas*** as *pd*\n- import ***matplotlib.pyplot*** as *plt*"
    },
    {
      "metadata": {
        "trusted": true
      },
      "cell_type": "code",
      "source": "from pandas_datareader.data import DataReader \nfrom datetime import date\nimport pandas as pd\nimport matplotlib.pyplot as plt",
      "execution_count": null,
      "outputs": []
    },
    {
      "metadata": {
        "trusted": true
      },
      "cell_type": "code",
      "source": "name1=input(\"Enter company symbol: \").upper()\nstart_year=int(input(\"Enter the starting year: \"))\nend_year=int(input(\"Enter the ending year: \"))\n",
      "execution_count": null,
      "outputs": []
    },
    {
      "metadata": {},
      "cell_type": "markdown",
      "source": "***DataReader(*** *name* ***,*** *data source* ***,*** *starting year* ***,*** *ending year* ***)***\n\n***date(*** *year* ***,*** *month* ***,*** *day* ***)***"
    },
    {
      "metadata": {
        "trusted": true
      },
      "cell_type": "code",
      "source": "start=date(start_year, 12, 31)\nend=date(end_year, 1, 1)\nticker= name1\ndata_source= 'yahoo'\nstock_data=DataReader(ticker, data_source, start, end) \n\n# end by default is today",
      "execution_count": null,
      "outputs": []
    },
    {
      "metadata": {},
      "cell_type": "markdown",
      "source": "using *info* , *concat*, *head* and **tail** to visualise the data"
    },
    {
      "metadata": {
        "trusted": true
      },
      "cell_type": "code",
      "source": "stock_data.info()\npd.concat([stock_data.head(3), stock_data.tail(3)], sort=False)",
      "execution_count": null,
      "outputs": []
    },
    {
      "metadata": {},
      "cell_type": "markdown",
      "source": "stock_data.[***'column name'***].***plot(*** *title='plot name'* ***)***\n\n***plt.show()*** to show the current plot using the matplotlib.pyplot functionallity"
    },
    {
      "metadata": {
        "trusted": true
      },
      "cell_type": "code",
      "source": "stock_data['Close'].plot(name=ticker)\nplt.show()",
      "execution_count": null,
      "outputs": []
    }
  ],
  "metadata": {
    "kernelspec": {
      "name": "python3",
      "display_name": "Python 3",
      "language": "python"
    },
    "language_info": {
      "mimetype": "text/x-python",
      "nbconvert_exporter": "python",
      "name": "python",
      "file_extension": ".py",
      "version": "3.5.4",
      "pygments_lexer": "ipython3",
      "codemirror_mode": {
        "version": 3,
        "name": "ipython"
      }
    }
  },
  "nbformat": 4,
  "nbformat_minor": 1
}