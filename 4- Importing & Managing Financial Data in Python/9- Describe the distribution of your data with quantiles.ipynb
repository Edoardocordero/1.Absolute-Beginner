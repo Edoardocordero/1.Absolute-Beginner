{
  "cells": [
    {
      "metadata": {},
      "cell_type": "markdown",
      "source": "import libraries"
    },
    {
      "metadata": {
        "trusted": true
      },
      "cell_type": "code",
      "source": "import pandas as pd\nimport matplotlib.pyplot as plt\nfrom pandas_datareader import DataReader\nfrom datetime import date\nimport numpy as np",
      "execution_count": null,
      "outputs": []
    },
    {
      "metadata": {},
      "cell_type": "markdown",
      "source": "import data"
    },
    {
      "metadata": {
        "trusted": true
      },
      "cell_type": "code",
      "source": "amex=pd.read_excel(filename, na_valuse='n/a')\namex.info()\namex.head(3)",
      "execution_count": null,
      "outputs": []
    },
    {
      "metadata": {},
      "cell_type": "markdown",
      "source": "get the column we want to analyse"
    },
    {
      "metadata": {
        "trusted": true
      },
      "cell_type": "code",
      "source": "market_cap=amex['MarketCap'].div(10**6)",
      "execution_count": null,
      "outputs": []
    },
    {
      "metadata": {},
      "cell_type": "markdown",
      "source": "get statistics of the column"
    },
    {
      "metadata": {
        "trusted": true
      },
      "cell_type": "code",
      "source": "print(\"Mean:\\t\", market_cap.mean(), \"\\nMedian:\\t\", market_cap.median(), \"\\nMode:\\t\", market_cap.mode(),\"\\nVariance:\\t\", market_cap.var(), \"\\nStd Dev:\\t\", market_cap.std())",
      "execution_count": null,
      "outputs": []
    },
    {
      "metadata": {},
      "cell_type": "markdown",
      "source": "**.quantile(** 0<=n<=1 **)**\n- it gives the number matched with the fraction of quantile"
    },
    {
      "metadata": {
        "trusted": true
      },
      "cell_type": "code",
      "source": "market_cap.quantile(0.5)==market_cap.median()\nprint(market_cap.quantile(0.5))\n\n#output1= True\n#output2= 117.52551686999999",
      "execution_count": null,
      "outputs": []
    },
    {
      "metadata": {},
      "cell_type": "markdown",
      "source": "sort the marketcap (in milion) in a list from the higher to the lower and **test the quantiles**"
    },
    {
      "metadata": {
        "trusted": true
      },
      "cell_type": "code",
      "source": "confront=amex.sort_values('MarketCap', ascending=False)['MarketCap'].div(10**6).tolist()\nmarket_cap.quantile(1)==confront[0]\n\n#ho trasformato in lista così posso chiamare la lista (access) se fosse stato un panda series con confront[0] mi restituiva il valore corrispondente all'indice 0",
      "execution_count": null,
      "outputs": []
    },
    {
      "metadata": {
        "trusted": true
      },
      "cell_type": "code",
      "source": "quantiles=market_cap.quantile([0.25, 0.75])\nprint(quantiles)\n\n#output: 0.25     26.089503\n#        0.75    746.080084\n#        Name: MarketCap, dtype: float64",
      "execution_count": null,
      "outputs": []
    },
    {
      "metadata": {},
      "cell_type": "markdown",
      "source": "find the **interquantile range**"
    },
    {
      "metadata": {
        "trusted": true
      },
      "cell_type": "code",
      "source": "interquantile_range=quantiles[0.75]-quantiles[0.25]\nprint(interquantile_range)",
      "execution_count": null,
      "outputs": []
    },
    {
      "metadata": {},
      "cell_type": "markdown",
      "source": "get the deciles with the **np.arange (** start **,** stop **,** step**)** method"
    },
    {
      "metadata": {
        "trusted": true
      },
      "cell_type": "code",
      "source": "decimal=np.arange(start=0.1,stop=1.1, step=0.1 )\ndeciles=market_cap.quantile(decimal)\ndeciles_list=deciles.tolist()\nprint(deciles)\nprint(\"\\n\\n\")\nprint(market_cap.median()==deciles[0.5]==deciles_list[4])\nprint(\"\\n\")\nprint(confront[0]==deciles[1]==deciles_list[-1])\n\n#importante",
      "execution_count": null,
      "outputs": []
    },
    {
      "metadata": {},
      "cell_type": "markdown",
      "source": "plot with the **bar diagram**\n- .plot( **kind=\"bar\"** , title=title)"
    },
    {
      "metadata": {
        "trusted": true
      },
      "cell_type": "code",
      "source": "market_cap.quantile(np.arange(start=0.1,stop=1.1,step=0.1)).plot(kind='bar', title=title);plt.tight_layout();plt.show()",
      "execution_count": null,
      "outputs": []
    },
    {
      "metadata": {
        "trusted": true
      },
      "cell_type": "code",
      "source": "# zoom in removing one quantile\nmarket_cap.quantile(np.arange(start=0.1,stop=1,step=0.1)).plot(kind='bar', title=title);plt.tight_layout();plt.show()",
      "execution_count": null,
      "outputs": []
    },
    {
      "metadata": {
        "trusted": true
      },
      "cell_type": "code",
      "source": "# zoom in removing one quantile\nmarket_cap.quantile(np.arange(start=0.1,stop=0.9,step=0.1)).plot(kind='bar', title=title);plt.tight_layout();plt.show()",
      "execution_count": null,
      "outputs": []
    },
    {
      "metadata": {
        "trusted": true
      },
      "cell_type": "code",
      "source": "# zoom in removing one quantile\nmarket_cap.quantile(np.arange(start=0.1,stop=0.8,step=0.1)).plot(kind='bar', title=title);plt.tight_layout();plt.show()",
      "execution_count": null,
      "outputs": []
    },
    {
      "metadata": {},
      "cell_type": "markdown",
      "source": "**.describe()**\n- get all statistics in one go"
    },
    {
      "metadata": {
        "trusted": true
      },
      "cell_type": "code",
      "source": "market_cap.describe()",
      "execution_count": null,
      "outputs": []
    },
    {
      "metadata": {},
      "cell_type": "markdown",
      "source": "- get **deciles** instead of quartiles"
    },
    {
      "metadata": {
        "trusted": true
      },
      "cell_type": "code",
      "source": "market_cap.describe(percentiles=np.arange(0.1,1.1,0.1))",
      "execution_count": null,
      "outputs": []
    }
  ],
  "metadata": {
    "kernelspec": {
      "name": "python3",
      "display_name": "Python 3",
      "language": "python"
    },
    "language_info": {
      "mimetype": "text/x-python",
      "nbconvert_exporter": "python",
      "name": "python",
      "pygments_lexer": "ipython3",
      "version": "3.5.4",
      "file_extension": ".py",
      "codemirror_mode": {
        "version": 3,
        "name": "ipython"
      }
    }
  },
  "nbformat": 4,
  "nbformat_minor": 1
}