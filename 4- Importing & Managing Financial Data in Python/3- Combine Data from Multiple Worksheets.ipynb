{
  "cells": [
    {
      "metadata": {
        "trusted": true
      },
      "cell_type": "code",
      "source": "import pandas as pd",
      "execution_count": null,
      "outputs": []
    },
    {
      "metadata": {
        "trusted": true
      },
      "cell_type": "code",
      "source": "filename='C:/Users/Edoardo/Desktop/filecompany.xlsx'\n\n# Leggo due fogli di lavoro diversi\nnyse=pd.read_excel(filename, na_values='n/a', sheet_name=0)\namex=pd.read_excel(filename, na_values='n/a', sheet_name='amex')\nnyse.info()\nprint(\"\\n\\n\")\namex.info()",
      "execution_count": null,
      "outputs": []
    },
    {
      "metadata": {},
      "cell_type": "markdown",
      "source": "Concat two worksheets with ***pd.concat(*** *[worsheet1, worksheet2]* **,** *sort=False* ***)***"
    },
    {
      "metadata": {
        "trusted": true
      },
      "cell_type": "code",
      "source": "pd.concat([nyse, amex], sort=False).info()\nprint(\"\\n\\n\")\npd.concat([nyse, amex], sort=False).head(6)",
      "execution_count": null,
      "outputs": []
    },
    {
      "metadata": {},
      "cell_type": "markdown",
      "source": "Add a **reference column** with *nyse* ***[*** *'Column Name'* ***] = *** *'NYSE'*"
    },
    {
      "metadata": {
        "trusted": true
      },
      "cell_type": "code",
      "source": "nyse['Exchange']='NYSE'\namex['Exchange']='AMEX'\n\npd.concat([nyse, amex], sort=False).info()\nprint(\"\\n\\n\")\npd.concat([nyse, amex], sort=False).head(6)",
      "execution_count": null,
      "outputs": []
    },
    {
      "metadata": {},
      "cell_type": "markdown",
      "source": "Create a list (listings) with a **for loop**"
    },
    {
      "metadata": {
        "trusted": true
      },
      "cell_type": "code",
      "source": "xls=pd.ExcelFile(filename)\n\n# exchanges is a list with the worksheets names\nexchanges=xls.sheet_names\nlistings=[]\n\nfor exchange in exchanges:\n    listing=pd.read_excel(xls, na_values='n/a', sheet_name=exchange) # read the worksheet exchange\n    listing['Exchange']=exchange.upper()  # add a reference column\n    listings.append(listing)  # append the read worksheet to listings\n    \nprint(\"As we expected listings is a list[  ,  ,  ] with three items read, nyse, amex and lse\\n\\n\")\n\n# listings is a list with the read of the worksheets\nprint(listings)",
      "execution_count": null,
      "outputs": []
    },
    {
      "metadata": {},
      "cell_type": "markdown",
      "source": "combine **items** in a *list* (single item=pd.read_excel(filename, work_sheet= **exchange**) , list = listings)"
    },
    {
      "metadata": {
        "trusted": true
      },
      "cell_type": "code",
      "source": "combined_listings=pd.concat(listings)\ncombined_listings.info()\nprint(\"\\n\\n\")\ncombined_listings.head()",
      "execution_count": null,
      "outputs": []
    }
  ],
  "metadata": {
    "kernelspec": {
      "name": "python3",
      "display_name": "Python 3",
      "language": "python"
    },
    "language_info": {
      "mimetype": "text/x-python",
      "nbconvert_exporter": "python",
      "name": "python",
      "pygments_lexer": "ipython3",
      "version": "3.5.4",
      "file_extension": ".py",
      "codemirror_mode": {
        "version": 3,
        "name": "ipython"
      }
    }
  },
  "nbformat": 4,
  "nbformat_minor": 1
}