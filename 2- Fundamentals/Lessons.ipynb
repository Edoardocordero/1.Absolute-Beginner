{
  "cells": [
    {
      "metadata": {},
      "cell_type": "markdown",
      "source": "# Module 1 SEQUENCE INDEX"
    },
    {
      "metadata": {
        "trusted": true
      },
      "cell_type": "code",
      "source": "name=\"Edoardo\"",
      "execution_count": 5,
      "outputs": []
    },
    {
      "metadata": {
        "trusted": true
      },
      "cell_type": "code",
      "source": "print(name[0])     #print first letter\nprint(name[-1])    #print last letter",
      "execution_count": 4,
      "outputs": [
        {
          "output_type": "stream",
          "text": "E\no\n",
          "name": "stdout"
        }
      ]
    },
    {
      "metadata": {
        "trusted": true
      },
      "cell_type": "code",
      "source": "print(name[1:])\nprint(name[:5])\nprint(name[::2])    #print skipping 2\nprint(name[2:8:2])  #[start:stop:step]\nprint(name[::-1])   #print backward\nprint(name[:3:-1])  #print the last 3 letters backward\nprint(name[3::-1])  #print the first 4 letters backward",
      "execution_count": 16,
      "outputs": [
        {
          "output_type": "stream",
          "text": "doardo\nEdoar\nEoro\noro\nodraodE\nodr\naodE\n",
          "name": "stdout"
        }
      ]
    },
    {
      "metadata": {
        "trusted": true
      },
      "cell_type": "code",
      "source": "#iterate\nfor ltr in name:\n    print(ltr)",
      "execution_count": 18,
      "outputs": [
        {
          "output_type": "stream",
          "text": "E\nd\no\na\nr\nd\no\n",
          "name": "stdout"
        }
      ]
    },
    {
      "metadata": {
        "trusted": true
      },
      "cell_type": "code",
      "source": "print(name)\nprint(len(name))                 #len(word)\nprint(name.count(\"o\", 4, 8))     #word.count(\"item\", start, end)\nprint(name.find(\"o\"))            #word.find(\"item\", start, end)\nprint(name.find(\"o\", 4, 8))\nprint(name.find(\"z\"))            #when item not found it gives -1",
      "execution_count": 6,
      "outputs": [
        {
          "output_type": "stream",
          "text": "Edoardo\n7\n1\n2\n6\n-1\n",
          "name": "stdout"
        }
      ]
    },
    {
      "metadata": {
        "trusted": true
      },
      "cell_type": "markdown",
      "source": "# Module 2 SEQUENCE MANIPULATION"
    },
    {
      "metadata": {
        "trusted": true
      },
      "cell_type": "code",
      "source": "# create list\nnumbers=[1, 2, \"three\", \"four\", 5]",
      "execution_count": 1,
      "outputs": []
    },
    {
      "metadata": {
        "trusted": true
      },
      "cell_type": "code",
      "source": "# list acces \nprint(numbers[0], \"+\", numbers[1], \"=\", numbers[0]+numbers[1])",
      "execution_count": 2,
      "outputs": [
        {
          "output_type": "stream",
          "text": "1 + 2 = 3\n",
          "name": "stdout"
        }
      ]
    },
    {
      "metadata": {
        "trusted": true
      },
      "cell_type": "code",
      "source": "# list append\nnumbers.append(\"six\")\nprint(numbers)",
      "execution_count": 3,
      "outputs": [
        {
          "output_type": "stream",
          "text": "[1, 2, 'three', 'four', 5, 'six']\n",
          "name": "stdout"
        }
      ]
    },
    {
      "metadata": {
        "trusted": true
      },
      "cell_type": "code",
      "source": "# list modify\nnumbers[2]=3\nprint(numbers)",
      "execution_count": 4,
      "outputs": [
        {
          "output_type": "stream",
          "text": "[1, 2, 3, 'four', 5, 'six']\n",
          "name": "stdout"
        }
      ]
    },
    {
      "metadata": {
        "trusted": true
      },
      "cell_type": "code",
      "source": "# list insert\nnumbers.insert(4, \"COUNT\")\nprint(numbers)",
      "execution_count": 5,
      "outputs": [
        {
          "output_type": "stream",
          "text": "[1, 2, 3, 'four', 'COUNT', 5, 'six']\n",
          "name": "stdout"
        }
      ]
    },
    {
      "metadata": {
        "trusted": true
      },
      "cell_type": "code",
      "source": "# delete a specific index\ndel numbers[4]\nprint(numbers)",
      "execution_count": 6,
      "outputs": [
        {
          "output_type": "stream",
          "text": "[1, 2, 3, 'four', 5, 'six']\n",
          "name": "stdout"
        }
      ]
    },
    {
      "metadata": {
        "trusted": true
      },
      "cell_type": "code",
      "source": "# get and delete items \nprint(numbers.pop(), \" which is the last item has been deleted\\n\",numbers.pop(2), \" has been deleted too.\\n\", numbers)",
      "execution_count": 7,
      "outputs": [
        {
          "output_type": "stream",
          "text": "six  which is the last item has been deleted\n 3  has been deleted too.\n [1, 2, 'four', 5]\n",
          "name": "stdout"
        }
      ]
    },
    {
      "metadata": {
        "trusted": true
      },
      "cell_type": "code",
      "source": "# empty list is false\nnumbers=[\"one\", \"two\", \"three\"]\nnew_list=[]\nwhile numbers:\n      print(numbers.pop(), \" has been deleted\")\nprint(numbers)",
      "execution_count": 11,
      "outputs": [
        {
          "output_type": "stream",
          "text": "three  has been deleted\ntwo  has been deleted\none  has been deleted\n[]\n",
          "name": "stdout"
        }
      ]
    },
    {
      "metadata": {
        "trusted": true
      },
      "cell_type": "code",
      "source": "# remove object\nnumbers=[1, 2, 8, 3]\nnumbers.remove(8)\nprint(numbers)",
      "execution_count": 12,
      "outputs": [
        {
          "output_type": "stream",
          "text": "[1, 2, 3]\n",
          "name": "stdout"
        }
      ]
    },
    {
      "metadata": {},
      "cell_type": "markdown",
      "source": "# Module 3 SEQUENCE ITERATION"
    },
    {
      "metadata": {
        "trusted": true
      },
      "cell_type": "code",
      "source": "#list iteration\nbird_list=[\"parrot\", \"eagle\", \"pigeon\"]\nfor bird in bird_list:\n    print(bird)",
      "execution_count": null,
      "outputs": []
    },
    {
      "metadata": {
        "trusted": true
      },
      "cell_type": "code",
      "source": "#string method while iteratin\nbird_list=[\"parrot\", \"eagle\", \"pigeon\"]\nsearch=\"a\"\ntotal=0\nfor bird in bird_list:\n    total+=bird.lower().count(search)\nprint(\"The total of 'a' is: \",total)\n",
      "execution_count": null,
      "outputs": []
    },
    {
      "metadata": {
        "trusted": true
      },
      "cell_type": "code",
      "source": "#range function\nlist1=[]\nlist2=[]\nlist3=[]\n\nfor numb in range(5):\n    list1.append()\nprint(list1)\n\nfor numb in range(1,5):\n    list2.append()\nprint(list2)\n\nfor numb in range(3,31,3):\n    list3.append()\nprint(list3)\n    ",
      "execution_count": null,
      "outputs": []
    },
    {
      "metadata": {
        "trusted": true
      },
      "cell_type": "code",
      "source": "# add a list to an existing list\nlist1.extend(list2)\nprint(list1)\n\n# (+) Addition operator for lists creates a (NEW) combined List\nlistx=list2+list3\nprint(listx)",
      "execution_count": null,
      "outputs": []
    },
    {
      "metadata": {
        "trusted": true
      },
      "cell_type": "code",
      "source": "# reverse a list\nlist3.reverse()\nprint(list3)",
      "execution_count": null,
      "outputs": []
    },
    {
      "metadata": {
        "trusted": true
      },
      "cell_type": "code",
      "source": "#orders a list in place\nprint(\"Before: \", list1)\nlist1.sort()\nprint(\"After: \",list1)\n\n# creates an ordered list copy\nprint(\"Before: \", listx)\nsorted_listx=sorted(listx)\nprint(\"After: (New List) \", listx)",
      "execution_count": null,
      "outputs": []
    },
    {
      "metadata": {
        "trusted": true
      },
      "cell_type": "code",
      "source": "#split string into a list\ntip_string = \"Notebooks can be exported as .pdf\"\ntip_list= tip_string.split()\nprint(tip_list)\n\ntip_string2 = \"Notebooks-can-be-saved-as-.pdf\"\ntip_list2=tip_string2.split(-)\nprint(tip_list2)",
      "execution_count": null,
      "outputs": []
    },
    {
      "metadata": {
        "trusted": true
      },
      "cell_type": "code",
      "source": "#build a string from a list\nprint(\" \".join(tip_list))\nprint(\"-\".join(tip_list))",
      "execution_count": null,
      "outputs": []
    },
    {
      "metadata": {
        "trusted": true
      },
      "cell_type": "code",
      "source": "#string to list\nprint(list(\"hello letters\"))\nprint",
      "execution_count": null,
      "outputs": []
    },
    {
      "metadata": {
        "trusted": true
      },
      "cell_type": "markdown",
      "source": "# Module 4: FILES"
    },
    {
      "metadata": {
        "trusted": true
      },
      "cell_type": "code",
      "source": "# Import Files to Jupyter\n# !, runs command interface supporting curl\n# curl, enables curl that can download files\n# -o, tells curl write data to a file\n# poeam1.txt, name curl will give the file\n\n!curl https://raw.githubusercontent.com/MicrosoftLearning/intropython/master/poem1.txt -o poem1.txt",
      "execution_count": 2,
      "outputs": [
        {
          "output_type": "stream",
          "text": "  % Total    % Received % Xferd  Average Speed   Time    Time     Time  Current\n                                 Dload  Upload   Total   Spent    Left  Speed\n100    56  100    56    0     0    289      0 --:--:-- --:--:-- --:--:--   291\n",
          "name": "stdout"
        }
      ]
    },
    {
      "metadata": {
        "trusted": true
      },
      "cell_type": "code",
      "source": "# Opening a Local File in read mode\n# r, only read mode\n# w, write - overwrites file with same name\n# r+, read and write mode\n# a, opens for appending to end of file\n\npoem_file = open('poem1.txt', 'r')\npoem_file",
      "execution_count": 8,
      "outputs": [
        {
          "output_type": "execute_result",
          "execution_count": 8,
          "data": {
            "text/plain": "<_io.TextIOWrapper name='poem1.txt' mode='r' encoding='UTF-8'>"
          },
          "metadata": {}
        }
      ]
    },
    {
      "metadata": {
        "trusted": true
      },
      "cell_type": "code",
      "source": "# Read a file using .read()\n\npoem_contents = poem_file.read()\nprint(poem_contents)\npoem_contents",
      "execution_count": 9,
      "outputs": [
        {
          "output_type": "stream",
          "text": "Loops I repeat\nloops\nloops\nloops\nI repeat\nuntil I\nbreak\n\n",
          "name": "stdout"
        },
        {
          "output_type": "execute_result",
          "execution_count": 9,
          "data": {
            "text/plain": "'Loops I repeat\\nloops\\nloops\\nloops\\nI repeat\\nuntil I\\nbreak\\n'"
          },
          "metadata": {}
        }
      ]
    },
    {
      "metadata": {
        "trusted": true
      },
      "cell_type": "code",
      "source": "# Reading a file with .read(n) where n = number of characters to read \n\npoem_file = open('poem1.txt', 'r')\npoem_contents15=poem_file.read(15).upper()\nprint(poem_contents15)",
      "execution_count": 12,
      "outputs": [
        {
          "output_type": "stream",
          "text": "LOOPS I REPEAT\n\n",
          "name": "stdout"
        }
      ]
    },
    {
      "metadata": {
        "trusted": true
      },
      "cell_type": "code",
      "source": "# File read as a list with .readlines() : converts the lines of a file into a list of strings\n\npoem_file = open('poem1.txt', 'r')\npoem_lines=poem_file.readlines()\nprint(poem_lines)\npoem_lines\n",
      "execution_count": 17,
      "outputs": [
        {
          "output_type": "stream",
          "text": "['Loops I repeat\\n', 'loops\\n', 'loops\\n', 'loops\\n', 'I repeat\\n', 'until I\\n', 'break\\n']\n",
          "name": "stdout"
        },
        {
          "output_type": "execute_result",
          "execution_count": 17,
          "data": {
            "text/plain": "['Loops I repeat\\n',\n 'loops\\n',\n 'loops\\n',\n 'loops\\n',\n 'I repeat\\n',\n 'until I\\n',\n 'break\\n']"
          },
          "metadata": {}
        }
      ]
    },
    {
      "metadata": {
        "trusted": true
      },
      "cell_type": "code",
      "source": "# remove newline characters from lists created using .readlines()\n\ncount=0\nfor line in poem_lines:\n    poem_lines[count]=line[:-1]\n    count+=1\n    \nprint(poem_lines)",
      "execution_count": 18,
      "outputs": [
        {
          "output_type": "stream",
          "text": "['Loops I repeat', 'loops', 'loops', 'loops', 'I repeat', 'until I', 'break']\n",
          "name": "stdout"
        }
      ]
    },
    {
      "metadata": {
        "trusted": true
      },
      "cell_type": "code",
      "source": "# File .close() method frees resources\n\npoem_file.close()",
      "execution_count": 19,
      "outputs": []
    },
    {
      "metadata": {
        "trusted": true
      },
      "cell_type": "code",
      "source": "# use .readline() to read a line in a file as a string : each .readline() moves to the next available line in the file\n\npoem1 = open('poem1.txt', 'r')\npoem_line1 = poem1.readline()\npoem_line2 = poem1.readline()\npoem_line3 = poem1.readline()\nprint(poem_line1, poem_line2, poem_line3)\n\n# In loop\n\npoem1 = open('poem1.txt', 'r')\npoem_line=poem1.readline()\nwhile poem_line:\n    print(poem_line)\n    poem_line=poem1.readline()\npoem1.close()",
      "execution_count": 23,
      "outputs": [
        {
          "output_type": "stream",
          "text": "Loops I repeat\n loops\n loops\n\nLoops I repeat\n\nloops\n\nloops\n\nloops\n\nI repeat\n\nuntil I\n\nbreak\n\n",
          "name": "stdout"
        }
      ]
    },
    {
      "metadata": {
        "trusted": true
      },
      "cell_type": "code",
      "source": "# readline() with .strip() : .strip() removes leading and trailing whitespace, including the '\\n' formatting character\n\npoem1 = open('poem1.txt', 'r')\npoem_line = poem1.readline().strip()\n\nwhile poem_line:\n    print(poem_line)\n    poem_line = poem1.readline().strip()\n    \npoem1.close()",
      "execution_count": 24,
      "outputs": [
        {
          "output_type": "stream",
          "text": "Loops I repeat\nloops\nloops\nloops\nI repeat\nuntil I\nbreak\n",
          "name": "stdout"
        }
      ]
    },
    {
      "metadata": {
        "trusted": true
      },
      "cell_type": "code",
      "source": "# .strip() arguments : .strip('*\\n') removes leading and trailing * and \\n\n\n!curl https://raw.githubusercontent.com/MicrosoftLearning/intropython/master/rainbow_messy -o rainbow_messy.txt\nrainbow_messy = open('rainbow_messy.txt', 'r')\ncolor = rainbow_messy.readline()\nwhile color:\n    print(color)\n    color = rainbow_messy.readline()\n    \n# [ ] review and run example: strip \"*\" and newline ('\\n')\nrainbow_messy = open('rainbow_messy.txt', 'r')\ncolor = rainbow_messy.readline().strip('*\\n')\nwhile color:\n    print(color)\n    color = rainbow_messy.readline().strip('*\\n')\n\nrainbow_messy.close()\n",
      "execution_count": 25,
      "outputs": [
        {
          "output_type": "stream",
          "text": "  % Total    % Received % Xferd  Average Speed   Time    Time     Time  Current\n                                 Dload  Upload   Total   Spent    Left  Speed\n100    71  100    71    0     0    230      0 --:--:-- --:--:-- --:--:--   232\n**red**\n\n**orange**\n\n**yellow**\n\n**green**\n\n**blue**\n\n**indigo**\n\n**violet**\n\nred\norange\nyellow\ngreen\nblue\nindigo\nviolet\n",
          "name": "stdout"
        }
      ]
    },
    {
      "metadata": {
        "trusted": true
      },
      "cell_type": "code",
      "source": "# writing to a file opened in write mode 'w' or 'w+'\n# 'w+' means the file is in write plus read mode\n# after any write, the pointer is at the end of text that has been written\n# to read the entire file, the pointer needs to be at the beginning of the file - see .seek() below to set the file pointer",
      "execution_count": null,
      "outputs": []
    },
    {
      "metadata": {
        "trusted": true
      },
      "cell_type": "code",
      "source": "# using .seek(0) setting the pointer to beginning of file\n# .seek(offset, whence)\n# whence=0 at the beginning, whence=1 current location, whence=2 at the end and offset=0",
      "execution_count": null,
      "outputs": []
    },
    {
      "metadata": {
        "trusted": true
      },
      "cell_type": "code",
      "source": "# MODE\tDescription\n# 'r'\tread only mode\n# 'w'\twrite - overwrites file with same name\n# 'w+'\twrite and read mode - overwrites file with same name\n# 'r+'\tread and write mode (no overwrite)\n# 'a'\topens for appending to end of file (no overwrite)\n# 'a+'\topens for appending to end of file (no overwrite) plus read",
      "execution_count": null,
      "outputs": []
    }
  ],
  "metadata": {
    "kernelspec": {
      "name": "python3",
      "display_name": "Python 3",
      "language": "python"
    },
    "language_info": {
      "mimetype": "text/x-python",
      "nbconvert_exporter": "python",
      "name": "python",
      "pygments_lexer": "ipython3",
      "version": "3.5.4",
      "file_extension": ".py",
      "codemirror_mode": {
        "version": 3,
        "name": "ipython"
      }
    }
  },
  "nbformat": 4,
  "nbformat_minor": 1
}