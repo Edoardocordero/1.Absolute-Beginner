{
  "cells": [
    {
      "metadata": {},
      "cell_type": "markdown",
      "source": "# Regole\n\nC'è un gioco a premi. Si hanno davanti 3 porte, 2 hanno dietro una *capra* (**lose**)  e una ha una *macchina* (**win**)\n\n# t=0\n   - Si sceglie una porta cercando la macchina, misurando la probabilità in t=0--\n     probabilità di aver scelto la macchina: ***30%***\n    \n# t=1\n   \n   \n   - Il gioco si differenzia in due varianti:\n     1. Il conduttore apre una porta in maniera **casuale** si considerino gli scenari dove esce **solo la capra** : misurando la probabilità in t=1 adesso la probabilità di vincere scegliendo la porta rimanente è: ***50%***\n     2. Il conduttore apre una porta in maniera **non casuale**: misurando la probabilità in t=1 se cambio la mia portaa con la porta rimamente la probabilità di trovare la macchina è: ***66.66%***\n   \n"
    },
    {
      "metadata": {
        "trusted": true
      },
      "cell_type": "code",
      "source": "import random as rd",
      "execution_count": 3,
      "outputs": []
    },
    {
      "metadata": {},
      "cell_type": "markdown",
      "source": "# Conduttore apre in maniera casuale"
    },
    {
      "metadata": {
        "trusted": true
      },
      "cell_type": "code",
      "source": "\ncount_total=0\ncount_played=0\nwin=0\nlose=0\nfor num in range(10000):\n    \n    #Randomizzo porta 1 (mydoor che scelgo), porta 2 (open door che viene aperta), porta 3 (che è quella che cambio)\n    \n    mydoor=rd.choice([\"capra\", \"capra\", \"macchina\"])\n    if mydoor==\"macchina\":\n        opendoor=\"capra\"\n        door3=\"capra\"\n    else: \n        opendoor=rd.choice([\"capra\", \"macchina\"])\n        if opendoor==\"macchina\":\n            door3=\"capra\"\n        else:\n            door3=\"macchina\"\n            \n    #Comincia il gioco\n    \n    if opendoor==\"macchina\":\n        count_total+=1\n        pass\n    \n    #Escludo gli scenari dove scartando una porta esce la macchina \n    \n    else:\n    \n        #cambio porta\n        \n        if door3==\"macchina\":\n            win+=1\n            count_total+=1\n            count_played+=1\n        else:\n            lose+=1\n            count_total+=1\n            count_played+=1\n\nprint(\"Total games: \", count, \"\\nWins: \", win, \"\\nLoses: \", lose, \"\\n\\nProbability of win measured in t=1: \", round(win/count_played*100, 4))",
      "execution_count": 102,
      "outputs": [
        {
          "output_type": "stream",
          "text": "Total games:  10000 \nWins:  3371 \nLoses:  3388 \n\nProbability of win measured in t=1:  49.8742\n",
          "name": "stdout"
        }
      ]
    },
    {
      "metadata": {},
      "cell_type": "markdown",
      "source": "# Monty Hall conduttore apre in maniera non casuale"
    },
    {
      "metadata": {
        "trusted": true
      },
      "cell_type": "code",
      "source": "count=0\nwin=0\nlose=0\nfor num in range(10000):\n    \n    #Randomizzo porta 1 (mydoor che scelgo), porta 2 (door2), porta 3 (door3)-cambio poi con la porta non aperta\n    \n    mydoor=rd.choice([\"capra\", \"capra\", \"macchina\"])\n    if mydoor==\"macchina\":\n        door2=\"capra\"\n        door3=\"capra\"\n    else: \n        door2=rd.choice([\"capra\", \"macchina\"])\n        if door2==\"macchina\":\n            door3=\"capra\"\n        else:\n            door3=\"macchina\"\n            \n    #Comincia il gioco\n    \n    if door2==\"capra\":\n        if door3==\"macchina\":\n            win+=1\n            count+=1\n        else:\n            lose+=1\n            count+=1\n    else:\n        win+=1\n        count+=1\n    \nprint(\"Total games: \", count, \"\\nWins: \", win, \"\\nLoses: \", lose, \"\\n\\nProbability of win measured in t=1: \", round(win/count*100, 4))",
      "execution_count": 98,
      "outputs": [
        {
          "output_type": "stream",
          "text": "Total games:  10000 \nWins:  6608 \nLoses:  3392 \n\nProbability of win measured in t=1:  66.08\n",
          "name": "stdout"
        }
      ]
    }
  ],
  "metadata": {
    "kernelspec": {
      "name": "python3",
      "display_name": "Python 3",
      "language": "python"
    },
    "language_info": {
      "mimetype": "text/x-python",
      "nbconvert_exporter": "python",
      "name": "python",
      "file_extension": ".py",
      "version": "3.5.4",
      "pygments_lexer": "ipython3",
      "codemirror_mode": {
        "version": 3,
        "name": "ipython"
      }
    }
  },
  "nbformat": 4,
  "nbformat_minor": 1
}