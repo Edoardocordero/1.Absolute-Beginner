{
  "cells": [
    {
      "metadata": {},
      "cell_type": "markdown",
      "source": "# Phone letters"
    },
    {
      "metadata": {
        "trusted": true
      },
      "cell_type": "code",
      "source": "phone_ltr=[\" \", \"\", \"ABC\", \"DEF\", \"GHI\", \"JKL\", \"MNO\", \"PQRS\", \"TUV\", \"WXYZ\"]",
      "execution_count": 31,
      "outputs": []
    },
    {
      "metadata": {},
      "cell_type": "markdown",
      "source": "# Access Lists\n"
    },
    {
      "metadata": {
        "trusted": true
      },
      "cell_type": "code",
      "source": "days_of_week=[\"Monday\", \"Tuesday\", \"Wensday\", \"Thursday\", \"Friday\", \"Saturday\", \"Sunday\"]\nprint(days_of_week[1], days_of_week[3], days_of_week[5])\n\nday=days_of_week[1]\nprint(day)\n\nday=days_of_week[5]\nprint(day)",
      "execution_count": 15,
      "outputs": [
        {
          "output_type": "stream",
          "text": "Tuesday Thursday Saturday\nTuesday\nSaturday\n",
          "name": "stdout"
        }
      ]
    },
    {
      "metadata": {},
      "cell_type": "markdown",
      "source": "# Endsday, Midsday, Resterday"
    },
    {
      "metadata": {
        "trusted": true
      },
      "cell_type": "code",
      "source": "print(days_of_week)\ndays_of_week.append(\"Endsday\")\nprint(days_of_week)\nprint(days_of_week[-1])\nwhile days_of_week[-1]!=\"Sunday\":\n    days_of_week.pop()\nprint(days_of_week)",
      "execution_count": 17,
      "outputs": [
        {
          "output_type": "stream",
          "text": "['Monday', 'Tuesday', 'Wensday', 'Thursday', 'Friday', 'Saturday', 'Sunday']\n['Monday', 'Tuesday', 'Wensday', 'Thursday', 'Friday', 'Saturday', 'Sunday', 'Endsday']\nEndsday\n['Monday', 'Tuesday', 'Wensday', 'Thursday', 'Friday', 'Saturday', 'Sunday']\n",
          "name": "stdout"
        }
      ]
    },
    {
      "metadata": {
        "trusted": true
      },
      "cell_type": "code",
      "source": "days_of_week=['Monday', 'Tuesday', 'Wensday', 'Thursday', 'Friday', 'Saturday', 'Sunday']\ndays_of_week.insert(5, \"Midsday\")\nprint(days_of_week)",
      "execution_count": 25,
      "outputs": [
        {
          "output_type": "stream",
          "text": "['Monday', 'Tuesday', 'Wensday', 'Thursday', 'Friday', 'Midsday', 'Saturday', 'Sunday']\n",
          "name": "stdout"
        }
      ]
    },
    {
      "metadata": {},
      "cell_type": "markdown",
      "source": "# Delete from a list"
    },
    {
      "metadata": {
        "trusted": true
      },
      "cell_type": "code",
      "source": "print(days_of_week.pop())\nprint(days_of_week)",
      "execution_count": 26,
      "outputs": [
        {
          "output_type": "stream",
          "text": "Sunday\n['Monday', 'Tuesday', 'Wensday', 'Thursday', 'Friday', 'Midsday', 'Saturday']\n",
          "name": "stdout"
        }
      ]
    },
    {
      "metadata": {
        "trusted": true
      },
      "cell_type": "code",
      "source": "del days_of_week[5]\nprint(days_of_week)",
      "execution_count": 29,
      "outputs": [
        {
          "output_type": "stream",
          "text": "['Monday', 'Tuesday', 'Wensday', 'Thursday', 'Friday', 'Saturday']\n",
          "name": "stdout"
        }
      ]
    },
    {
      "metadata": {
        "trusted": true
      },
      "cell_type": "code",
      "source": "while days_of_week:\n    print(days_of_week.pop())\n    \nprint(days_of_week)",
      "execution_count": 30,
      "outputs": [
        {
          "output_type": "stream",
          "text": "Saturday\nFriday\nThursday\nWensday\nTuesday\nMonday\n[]\n",
          "name": "stdout"
        }
      ]
    },
    {
      "metadata": {},
      "cell_type": "markdown",
      "source": "# Program: Letter to Number Function"
    },
    {
      "metadata": {
        "trusted": true
      },
      "cell_type": "code",
      "source": "phone_ltr=[\" \", \"\", \"ABC\", \"DEF\", \"GHI\", \"JKL\", \"MNO\", \"PQRS\", \"TUV\", \"WXYZ\"]",
      "execution_count": 32,
      "outputs": []
    },
    {
      "metadata": {
        "trusted": true
      },
      "cell_type": "code",
      "source": "def let_to_num(letter):\n    key=0\n    while key<10:\n        if letter.upper() in phone_ltr[key]:\n            if letter==\"\":\n                return 1\n            else:\n                return key\n        else: \n            key+=1\n    return \"Not found\"   \n   ",
      "execution_count": 66,
      "outputs": []
    },
    {
      "metadata": {
        "trusted": true
      },
      "cell_type": "code",
      "source": "print(let_to_num(\"a\"))\nprint(let_to_num(\" \"))",
      "execution_count": 67,
      "outputs": [
        {
          "output_type": "stream",
          "text": "2\n0\n",
          "name": "stdout"
        }
      ]
    },
    {
      "metadata": {},
      "cell_type": "markdown",
      "source": "# Challenge: reverse a string"
    },
    {
      "metadata": {
        "trusted": true
      },
      "cell_type": "code",
      "source": "some_numbers =[1,2,3,4,5,6,7,8,9,11,22,33,44,55,66,77]\nnew_list=[]\ncount=len(some_numbers)\nwhile count>0:\n    new_list.append(some_numbers.pop())\n    count-=1\nprint(new_list)\n",
      "execution_count": 45,
      "outputs": [
        {
          "output_type": "stream",
          "text": "[77, 66, 55, 44, 33, 22, 11, 9, 8, 7, 6, 5, 4, 3, 2, 1]\n",
          "name": "stdout"
        }
      ]
    }
  ],
  "metadata": {
    "kernelspec": {
      "name": "python36",
      "display_name": "Python 3.6",
      "language": "python"
    },
    "language_info": {
      "mimetype": "text/x-python",
      "nbconvert_exporter": "python",
      "name": "python",
      "pygments_lexer": "ipython3",
      "version": "3.6.3",
      "file_extension": ".py",
      "codemirror_mode": {
        "version": 3,
        "name": "ipython"
      }
    }
  },
  "nbformat": 4,
  "nbformat_minor": 1
}