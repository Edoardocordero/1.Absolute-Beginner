{
  "cells": [
    {
      "metadata": {},
      "cell_type": "markdown",
      "source": "# Program: Words after \"G\"/\"g\""
    },
    {
      "metadata": {
        "trusted": true
      },
      "cell_type": "code",
      "source": "quote=input(\"Enter a 1 sentence quote, non-alpha separate words: \")\nword=\"\"\nfor ltr in quote:\n    if ltr.isalpha():\n        word+=ltr.upper()\n    else:\n        if word[0]>=\"G\":\n            print(word)\n            word=\"\"\n        else: word=\"\"",
      "execution_count": 3,
      "outputs": [
        {
          "output_type": "stream",
          "name": "stdout",
          "text": "Enter a 1 sentence quote, non-alpha separate words: ciao io sono edoardo\nIO\nSONO\n"
        }
      ]
    }
  ],
  "metadata": {
    "kernelspec": {
      "name": "python3",
      "display_name": "Python 3",
      "language": "python"
    },
    "language_info": {
      "mimetype": "text/x-python",
      "nbconvert_exporter": "python",
      "name": "python",
      "pygments_lexer": "ipython3",
      "version": "3.5.4",
      "file_extension": ".py",
      "codemirror_mode": {
        "version": 3,
        "name": "ipython"
      }
    }
  },
  "nbformat": 4,
  "nbformat_minor": 1
}