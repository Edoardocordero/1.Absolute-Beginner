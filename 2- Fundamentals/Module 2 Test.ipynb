{
  "cells": [
    {
      "metadata": {},
      "cell_type": "markdown",
      "source": "# Program: list-o-matic"
    },
    {
      "metadata": {
        "trusted": true
      },
      "cell_type": "code",
      "source": "def list_o_matic(string, an_list):\n    if string==\"\":\n        return an_list.pop(), \"popped out of the list\"\n    else:\n        if string in an_list:\n            an_list.remove(string)\n            text1=\"1 instance of\", string, \"removed from the list\"\n            return text1\n        else:\n            an_list.append(string)\n            text2=\"1 instance of\", string, \"appended to the list\"\n            return text2\n    \nus_list=[\"cat\", \"dog\", \"frog\"]\nprint(\"The list is\", us_list)\nwhile us_list:\n    us_string=input(\"Enter an animal or quit: \")\n    if us_string.lower()==\"quit\":\n        break\n    else:\n        x=list_o_matic(us_string, us_list)\n        print(x)\n        print(\"The list is\", us_list)\nprint(\"Goodbye\")\n\n        \n    \n    ",
      "execution_count": 1,
      "outputs": [
        {
          "output_type": "stream",
          "text": "The list is ['cat', 'dog', 'frog']\nEnter an animal or quit: dog\n('1 instance of', 'dog', 'removed from the list')\nThe list is ['cat', 'frog']\nEnter an animal or quit: cat\n('1 instance of', 'cat', 'removed from the list')\nThe list is ['frog']\nEnter an animal or quit: quit\nGoodbye\n",
          "name": "stdout"
        }
      ]
    }
  ],
  "metadata": {
    "kernelspec": {
      "name": "python36",
      "display_name": "Python 3.6",
      "language": "python"
    },
    "language_info": {
      "mimetype": "text/x-python",
      "nbconvert_exporter": "python",
      "name": "python",
      "pygments_lexer": "ipython3",
      "version": "3.6.3",
      "file_extension": ".py",
      "codemirror_mode": {
        "version": 3,
        "name": "ipython"
      }
    }
  },
  "nbformat": 4,
  "nbformat_minor": 1
}