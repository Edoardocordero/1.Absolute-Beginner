{
  "cells": [
    {
      "metadata": {},
      "cell_type": "markdown",
      "source": "# Working string\n"
    },
    {
      "metadata": {
        "trusted": true
      },
      "cell_type": "code",
      "source": "planet_name=\"Jupiter\"\nprint(planet_name[1])\nprint(planet_name[0])\nprint(planet_name[0]+planet_name[-1])\n\ncount=len(planet_name)\nprint(planet_name[-count])",
      "execution_count": 4,
      "outputs": [
        {
          "output_type": "stream",
          "text": "u\nJ\nJr\nJ\n",
          "name": "stdout"
        }
      ]
    },
    {
      "metadata": {},
      "cell_type": "markdown",
      "source": "# Slice"
    },
    {
      "metadata": {
        "trusted": true
      },
      "cell_type": "code",
      "source": "planet_name=\"Neptune\"\nprint(planet_name[0:3]+\"\\n\"+planet_name[3:])",
      "execution_count": 5,
      "outputs": [
        {
          "output_type": "stream",
          "text": "Nep\ntune\n",
          "name": "stdout"
        }
      ]
    },
    {
      "metadata": {
        "trusted": true
      },
      "cell_type": "code",
      "source": "wise_words = 'Play it who opens'\nprint(wise_words[::3])",
      "execution_count": 6,
      "outputs": [
        {
          "output_type": "stream",
          "text": "Python\n",
          "name": "stdout"
        }
      ]
    },
    {
      "metadata": {
        "trusted": true
      },
      "cell_type": "code",
      "source": "print(planet_name[::-1])",
      "execution_count": 7,
      "outputs": [
        {
          "output_type": "stream",
          "text": "enutpeN\n",
          "name": "stdout"
        }
      ]
    },
    {
      "metadata": {},
      "cell_type": "markdown",
      "source": "# Iterate a string"
    },
    {
      "metadata": {
        "trusted": true
      },
      "cell_type": "code",
      "source": "fav_food=input(\"Enter your favorite food: \")\nprint(fav_food[:])\nfor letter in fav_food[1:]:\n    print(letter)\n    ",
      "execution_count": null,
      "outputs": []
    },
    {
      "metadata": {
        "trusted": true
      },
      "cell_type": "code",
      "source": "work_tip = \"Good code is commented code\"\nnew_msg=\"\"\nfor ltr in work_tip:\n    if ltr==\" \":\n        new_msg+=\"-\"\n    else:\n        new_msg+=ltr\nprint(new_msg)",
      "execution_count": 1,
      "outputs": [
        {
          "output_type": "stream",
          "text": "Good-code-is-commented-code\n",
          "name": "stdout"
        }
      ]
    },
    {
      "metadata": {
        "trusted": true
      },
      "cell_type": "code",
      "source": "name = \"Hiroto\"\nfor ltr in name[0:4]:\n    print(ltr)\n    \nprint(name[1:])",
      "execution_count": 2,
      "outputs": [
        {
          "output_type": "stream",
          "text": "H\ni\nr\no\niroto\n",
          "name": "stdout"
        }
      ]
    },
    {
      "metadata": {
        "trusted": true
      },
      "cell_type": "markdown",
      "source": "# Mystery name"
    },
    {
      "metadata": {
        "trusted": true
      },
      "cell_type": "code",
      "source": "first_name=input(\"Enter your name: \")\nnew_name=\"\"\nfor ltr in first_name[::-1]:\n    if ltr.lower() in \"a e t\":\n        new_name+=\"?\"\n    else:\n        new_name+=ltr\nprint(new_name)",
      "execution_count": 4,
      "outputs": [
        {
          "output_type": "stream",
          "name": "stdout",
          "text": "Enter your name: edoardo\nodr?od?\n"
        }
      ]
    },
    {
      "metadata": {},
      "cell_type": "markdown",
      "source": "# len(), count(), find()"
    },
    {
      "metadata": {
        "trusted": true
      },
      "cell_type": "code",
      "source": "topic = \".len() returns the length of a string\"\nprint(len(topic))\ntopic2 = \"len() can take a sequence, like a string, as an argument\"\nmdl_pt=int(len(topic2)/2)\nprint(mdl_pt)\nwork_tip = \"Good code is commented code\"\nprint(work_tip.find(\"code\"))\ncode_index=work_tip.find(\"code\", 13)\nif code_index==-1:\n    print(\"'code' is not present in the substring\")\nelse: print(\"'code' starts at the index number \", code_index)",
      "execution_count": 9,
      "outputs": [
        {
          "output_type": "stream",
          "text": "37\n28\n5\n'code' starts at the index number  23\n",
          "name": "stdout"
        }
      ]
    },
    {
      "metadata": {},
      "cell_type": "markdown",
      "source": "# Task 5"
    },
    {
      "metadata": {
        "trusted": true
      },
      "cell_type": "code",
      "source": "work_tip = \"Good code is commented code\"\nprint(\"Number of 'w':\\t\",work_tip.count(\"w\"),\"\\nNumber of 'o':\\t\",work_tip.count(\"o\"),\"\\nNumber of 'code': \",work_tip.count(\"code\"))",
      "execution_count": 14,
      "outputs": [
        {
          "output_type": "stream",
          "text": "Number of 'w':\t 0 \nNumber of 'o':\t 5 \nNumber of 'code':  2\n",
          "name": "stdout"
        }
      ]
    },
    {
      "metadata": {
        "trusted": true
      },
      "cell_type": "code",
      "source": "code_tip = \"code a conditional decision like you would say it\"\nstart=0\nindex=code_tip.find(\"i\",start)\nwhile index!=-1:\n    print(\"'i' position:\\t\", index)\n    start=index+1\n    index=code_tip.find(\"i\", start)\n    ",
      "execution_count": 2,
      "outputs": [
        {
          "output_type": "stream",
          "text": "'i' position:\t 11\n'i' position:\t 13\n'i' position:\t 22\n'i' position:\t 24\n'i' position:\t 29\n'i' position:\t 47\n",
          "name": "stdout"
        }
      ]
    },
    {
      "metadata": {},
      "cell_type": "markdown",
      "source": "# Program: Words after \"G\"/\"g\""
    },
    {
      "metadata": {
        "trusted": true
      },
      "cell_type": "code",
      "source": "quote=input(\"Enter a phrase: \")\n\n#add spaces\nnew_quote=\" \"+quote+\" \"\n\n#find spaces\nspace_start=0\nspace_index= new_quote.find(\" \",space_start)\nwhile space_index!=-1:\n    if new_quote[space_start]>\"g\":\n        print(new_quote[space_start:space_index].upper())\n    else: pass\n    space_start=space_index+1\n    space_index=new_quote.find(\" \", space_start)\n    ",
      "execution_count": 3,
      "outputs": [
        {
          "output_type": "stream",
          "name": "stdout",
          "text": "Enter a phrase: oggi sono andato al lavoro\nOGGI\nSONO\nLAVORO\n"
        }
      ]
    }
  ],
  "metadata": {
    "kernelspec": {
      "name": "python3",
      "display_name": "Python 3",
      "language": "python"
    },
    "language_info": {
      "mimetype": "text/x-python",
      "nbconvert_exporter": "python",
      "name": "python",
      "pygments_lexer": "ipython3",
      "version": "3.5.4",
      "file_extension": ".py",
      "codemirror_mode": {
        "version": 3,
        "name": "ipython"
      }
    }
  },
  "nbformat": 4,
  "nbformat_minor": 1
}